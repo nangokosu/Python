{
  "nbformat": 4,
  "nbformat_minor": 0,
  "metadata": {
    "colab": {
      "name": "Data Wrangling project",
      "provenance": [],
      "include_colab_link": true
    },
    "kernelspec": {
      "name": "python3",
      "display_name": "Python 3"
    }
  },
  "cells": [
    {
      "cell_type": "markdown",
      "metadata": {
        "id": "view-in-github",
        "colab_type": "text"
      },
      "source": [
        "<a href=\"https://colab.research.google.com/github/nangokosu/Python/blob/master/Data_Wrangling_project.ipynb\" target=\"_parent\"><img src=\"https://colab.research.google.com/assets/colab-badge.svg\" alt=\"Open In Colab\"/></a>"
      ]
    },
    {
      "cell_type": "code",
      "metadata": {
        "id": "6N7u5N7t7MQa",
        "colab_type": "code",
        "outputId": "7e12aab4-ea2b-467e-fcbb-a055edfd9bcc",
        "colab": {
          "base_uri": "https://localhost:8080/",
          "height": 258
        }
      },
      "source": [
        "pip install pyspark"
      ],
      "execution_count": 0,
      "outputs": [
        {
          "output_type": "stream",
          "text": [
            "Collecting pyspark\n",
            "\u001b[?25l  Downloading https://files.pythonhosted.org/packages/87/21/f05c186f4ddb01d15d0ddc36ef4b7e3cedbeb6412274a41f26b55a650ee5/pyspark-2.4.4.tar.gz (215.7MB)\n",
            "\u001b[K     |████████████████████████████████| 215.7MB 54kB/s \n",
            "\u001b[?25hCollecting py4j==0.10.7\n",
            "\u001b[?25l  Downloading https://files.pythonhosted.org/packages/e3/53/c737818eb9a7dc32a7cd4f1396e787bd94200c3997c72c1dbe028587bd76/py4j-0.10.7-py2.py3-none-any.whl (197kB)\n",
            "\u001b[K     |████████████████████████████████| 204kB 44.6MB/s \n",
            "\u001b[?25hBuilding wheels for collected packages: pyspark\n",
            "  Building wheel for pyspark (setup.py) ... \u001b[?25l\u001b[?25hdone\n",
            "  Created wheel for pyspark: filename=pyspark-2.4.4-py2.py3-none-any.whl size=216130387 sha256=f62f03a39b2c485fa5995341bc9df6a8bfc5e4a8f9d40546a62703486a54fcf5\n",
            "  Stored in directory: /root/.cache/pip/wheels/ab/09/4d/0d184230058e654eb1b04467dbc1292f00eaa186544604b471\n",
            "Successfully built pyspark\n",
            "Installing collected packages: py4j, pyspark\n",
            "Successfully installed py4j-0.10.7 pyspark-2.4.4\n"
          ],
          "name": "stdout"
        }
      ]
    },
    {
      "cell_type": "code",
      "metadata": {
        "id": "lTOvptWV7YNf",
        "colab_type": "code",
        "colab": {}
      },
      "source": [
        "!apt-get install openjdk-8-jdk-headless -qq> /dev/null\n",
        "import os\n",
        "os.environ[\"JAVA_HOME\"]=\"/usr/lib/jvm/java-8-openjdk-amd64\""
      ],
      "execution_count": 0,
      "outputs": []
    },
    {
      "cell_type": "code",
      "metadata": {
        "id": "lq5Hhf6o-TRC",
        "colab_type": "code",
        "outputId": "75f423b3-6bb4-40ea-8579-78eb5a02d942",
        "colab": {
          "base_uri": "https://localhost:8080/",
          "height": 139
        }
      },
      "source": [
        "from google.colab import drive\n",
        "drive.mount(\"/gdrive\")\n",
        "%cd /gdrive"
      ],
      "execution_count": 0,
      "outputs": [
        {
          "output_type": "stream",
          "text": [
            "Go to this URL in a browser: https://accounts.google.com/o/oauth2/auth?client_id=947318989803-6bn6qk8qdgf4n4g3pfee6491hc0brc4i.apps.googleusercontent.com&redirect_uri=urn%3aietf%3awg%3aoauth%3a2.0%3aoob&response_type=code&scope=email%20https%3a%2f%2fwww.googleapis.com%2fauth%2fdocs.test%20https%3a%2f%2fwww.googleapis.com%2fauth%2fdrive%20https%3a%2f%2fwww.googleapis.com%2fauth%2fdrive.photos.readonly%20https%3a%2f%2fwww.googleapis.com%2fauth%2fpeopleapi.readonly\n",
            "\n",
            "Enter your authorization code:\n",
            "··········\n",
            "Mounted at /gdrive\n",
            "/gdrive\n"
          ],
          "name": "stdout"
        }
      ]
    },
    {
      "cell_type": "code",
      "metadata": {
        "id": "ev5Xwneb-17D",
        "colab_type": "code",
        "colab": {}
      },
      "source": [
        "from pyspark.sql import SparkSession\n",
        "sparksession=SparkSession.builder.appName('test').getOrCreate()"
      ],
      "execution_count": 0,
      "outputs": []
    },
    {
      "cell_type": "code",
      "metadata": {
        "id": "UWEJYIlK_VBj",
        "colab_type": "code",
        "colab": {}
      },
      "source": [
        "import pyspark.sql.functions as F\n",
        "import pyspark.sql.types as T\n",
        "\n"
      ],
      "execution_count": 0,
      "outputs": []
    },
    {
      "cell_type": "code",
      "metadata": {
        "id": "Z7h0moo0_hAu",
        "colab_type": "code",
        "colab": {}
      },
      "source": [
        "root_dir = '/gdrive/My Drive/Credit Fraud' # Source: https://www.kaggle.com/janiobachmann/credit-fraud-dealing-with-imbalanced-datasets"
      ],
      "execution_count": 0,
      "outputs": []
    },
    {
      "cell_type": "code",
      "metadata": {
        "id": "G76bQyvv_ooi",
        "colab_type": "code",
        "outputId": "a478eb6e-9163-4671-d95c-53750a5bd6b2",
        "colab": {
          "base_uri": "https://localhost:8080/",
          "height": 343
        }
      },
      "source": [
        "df=sparksession.read.csv('/gdrive/My Drive/Credit Fraud',header=True)\n",
        "#Change to own directory for file\n",
        "df.show(10, truncate= False)\n",
        "feature_names=df.columns[1:len(df.columns)-1]\n",
        "print(feature_names)\n",
        "print(len(feature_names))"
      ],
      "execution_count": 0,
      "outputs": [
        {
          "output_type": "stream",
          "text": [
            "+----+------------------+-------------------+------------------+------------------+-------------------+-------------------+--------------------+------------------+------------------+-------------------+------------------+------------------+------------------+------------------+------------------+-------------------+-------------------+-------------------+-------------------+-------------------+--------------------+-------------------+-------------------+------------------+-------------------+-------------------+--------------------+-------------------+------+-----+\n",
            "|Time|V1                |V2                 |V3                |V4                |V5                 |V6                 |V7                  |V8                |V9                |V10                |V11               |V12               |V13               |V14               |V15               |V16                |V17                |V18                |V19                |V20                |V21                 |V22                |V23                |V24               |V25                |V26                |V27                 |V28                |Amount|Class|\n",
            "+----+------------------+-------------------+------------------+------------------+-------------------+-------------------+--------------------+------------------+------------------+-------------------+------------------+------------------+------------------+------------------+------------------+-------------------+-------------------+-------------------+-------------------+-------------------+--------------------+-------------------+-------------------+------------------+-------------------+-------------------+--------------------+-------------------+------+-----+\n",
            "|0   |-1.3598071336738  |-0.0727811733098497|2.53634673796914  |1.37815522427443  |-0.338320769942518 |0.462387777762292  |0.239598554061257   |0.0986979012610507|0.363786969611213 |0.0907941719789316 |-0.551599533260813|-0.617800855762348|-0.991389847235408|-0.311169353699879|1.46817697209427  |-0.470400525259478 |0.207971241929242  |0.0257905801985591 |0.403992960255733  |0.251412098239705  |-0.018306777944153  |0.277837575558899  |-0.110473910188767 |0.0669280749146731|0.128539358273528  |-0.189114843888824 |0.133558376740387   |-0.0210530534538215|149.62|0    |\n",
            "|0   |1.19185711131486  |0.26615071205963   |0.16648011335321  |0.448154078460911 |0.0600176492822243 |-0.0823608088155687|-0.0788029833323113 |0.0851016549148104|-0.255425128109186|-0.166974414004614 |1.61272666105479  |1.06523531137287  |0.48909501589608  |-0.143772296441519|0.635558093258208 |0.463917041022171  |-0.114804663102346 |-0.183361270123994 |-0.145783041325259 |-0.0690831352230203|-0.225775248033138  |-0.638671952771851 |0.101288021253234  |-0.339846475529127|0.167170404418143  |0.125894532368176  |-0.00898309914322813|0.0147241691924927 |2.69  |0    |\n",
            "|1   |-1.35835406159823 |-1.34016307473609  |1.77320934263119  |0.379779593034328 |-0.503198133318193 |1.80049938079263   |0.791460956450422   |0.247675786588991 |-1.51465432260583 |0.207642865216696  |0.624501459424895 |0.066083685268831 |0.717292731410831 |-0.165945922763554|2.34586494901581  |-2.89008319444231  |1.10996937869599   |-0.121359313195888 |-2.26185709530414  |0.524979725224404  |0.247998153469754   |0.771679401917229  |0.909412262347719  |-0.689280956490685|-0.327641833735251 |-0.139096571514147 |-0.0553527940384261 |-0.0597518405929204|378.66|0    |\n",
            "|1   |-0.966271711572087|-0.185226008082898 |1.79299333957872  |-0.863291275036453|-0.0103088796030823|1.24720316752486   |0.23760893977178    |0.377435874652262 |-1.38702406270197 |-0.0549519224713749|-0.226487263835401|0.178228225877303 |0.507756869957169 |-0.28792374549456 |-0.631418117709045|-1.0596472454325   |-0.684092786345479 |1.96577500349538   |-1.2326219700892   |-0.208037781160366 |-0.108300452035545  |0.00527359678253453|-0.190320518742841 |-1.17557533186321 |0.647376034602038  |-0.221928844458407 |0.0627228487293033  |0.0614576285006353 |123.5 |0    |\n",
            "|2   |-1.15823309349523 |0.877736754848451  |1.548717846511    |0.403033933955121 |-0.407193377311653 |0.0959214624684256 |0.592940745385545   |-0.270532677192282|0.817739308235294 |0.753074431976354  |-0.822842877946363|0.53819555014995  |1.3458515932154   |-1.11966983471731 |0.175121130008994 |-0.451449182813529 |-0.237033239362776 |-0.0381947870352842|0.803486924960175  |0.408542360392758  |-0.00943069713232919|0.79827849458971   |-0.137458079619063 |0.141266983824769 |-0.206009587619756 |0.502292224181569  |0.219422229513348   |0.215153147499206  |69.99 |0    |\n",
            "|2   |-0.425965884412454|0.960523044882985  |1.14110934232219  |-0.168252079760302|0.42098688077219   |-0.0297275516639742|0.476200948720027   |0.260314333074874 |-0.56867137571251 |-0.371407196834471 |1.34126198001957  |0.359893837038039 |-0.358090652573631|-0.137133700217612|0.517616806555742 |0.401725895589603  |-0.0581328233640131|0.0686531494425432 |-0.0331937877876282|0.0849676720682049 |-0.208253514656728  |-0.559824796253248 |-0.0263976679795373|-0.371426583174346|-0.232793816737034 |0.105914779097957  |0.253844224739337   |0.0810802569229443 |3.67  |0    |\n",
            "|4   |1.22965763450793  |0.141003507049326  |0.0453707735899449|1.20261273673594  |0.191880988597645  |0.272708122899098  |-0.00515900288250983|0.0812129398830894|0.464959994783886 |-0.0992543211289237|-1.41690724314928 |-0.153825826253651|-0.75106271556262 |0.16737196252175  |0.0501435942254188|-0.443586797916727 |0.00282051247234708|-0.61198733994012  |-0.0455750446637976|-0.21963255278686  |-0.167716265815783  |-0.270709726172363 |-0.154103786809305 |-0.780055415004671|0.75013693580659   |-0.257236845917139 |0.0345074297438413  |0.00516776890624916|4.99  |0    |\n",
            "|7   |-0.644269442348146|1.41796354547385   |1.0743803763556   |-0.492199018495015|0.948934094764157  |0.428118462833089  |1.12063135838353    |-3.80786423873589 |0.615374730667027 |1.24937617815176   |-0.619467796121913|0.291474353088705 |1.75796421396042  |-1.32386521970526 |0.686132504394383 |-0.0761269994382006|-1.2221273453247   |-0.358221569869078 |0.324504731321494  |-0.156741852488285 |1.94346533978412    |-1.01545470979971  |0.057503529867291  |-0.649709005559993|-0.415266566234811 |-0.0516342969262494|-1.20692108094258   |-1.08533918832377  |40.8  |0    |\n",
            "|7   |-0.89428608220282 |0.286157196276544  |-0.113192212729871|-0.271526130088604|2.6695986595986    |3.72181806112751   |0.370145127676916   |0.851084443200905 |-0.392047586798604|-0.410430432848439 |-0.705116586646536|-0.110452261733098|-0.286253632470583|0.0743553603016731|-0.328783050303565|-0.210077268148783 |-0.499767968800267 |0.118764861004217  |0.57032816746536   |0.0527356691149697 |-0.0734251001059225 |-0.268091632235551 |-0.204232669947878 |1.0115918018785   |0.373204680146282  |-0.384157307702294 |0.0117473564581996  |0.14240432992147   |93.2  |0    |\n",
            "|9   |-0.33826175242575 |1.11959337641566   |1.04436655157316  |-0.222187276738296|0.49936080649727   |-0.24676110061991  |0.651583206489972   |0.0695385865186387|-0.736727316364109|-0.366845639206541 |1.01761446783262  |0.836389570307029 |1.00684351373408  |-0.443522816876142|0.150219101422635 |0.739452777052119  |-0.540979921943059 |0.47667726004282   |0.451772964394125  |0.203711454727929  |-0.246913936910008  |-0.633752642406113 |-0.12079408408185  |-0.385049925313426|-0.0697330460416923|0.0941988339514961 |0.246219304619926   |0.0830756493473326 |3.68  |0    |\n",
            "+----+------------------+-------------------+------------------+------------------+-------------------+-------------------+--------------------+------------------+------------------+-------------------+------------------+------------------+------------------+------------------+------------------+-------------------+-------------------+-------------------+-------------------+-------------------+--------------------+-------------------+-------------------+------------------+-------------------+-------------------+--------------------+-------------------+------+-----+\n",
            "only showing top 10 rows\n",
            "\n",
            "['V1', 'V2', 'V3', 'V4', 'V5', 'V6', 'V7', 'V8', 'V9', 'V10', 'V11', 'V12', 'V13', 'V14', 'V15', 'V16', 'V17', 'V18', 'V19', 'V20', 'V21', 'V22', 'V23', 'V24', 'V25', 'V26', 'V27', 'V28', 'Amount']\n",
            "29\n"
          ],
          "name": "stdout"
        }
      ]
    },
    {
      "cell_type": "code",
      "metadata": {
        "id": "w-8eK48tL5kx",
        "colab_type": "code",
        "outputId": "842ad027-5c02-4839-8265-b4a8ba4d4990",
        "colab": {
          "base_uri": "https://localhost:8080/",
          "height": 1000
        }
      },
      "source": [
        "df.printSchema()\n",
        "for feature in df.columns:\n",
        "   df=df.withColumn(f\"{feature}\", df[f\"{feature}\"].cast(\"float\"))\n",
        "df.printSchema()"
      ],
      "execution_count": 0,
      "outputs": [
        {
          "output_type": "stream",
          "text": [
            "root\n",
            " |-- Time: string (nullable = true)\n",
            " |-- V1: string (nullable = true)\n",
            " |-- V2: string (nullable = true)\n",
            " |-- V3: string (nullable = true)\n",
            " |-- V4: string (nullable = true)\n",
            " |-- V5: string (nullable = true)\n",
            " |-- V6: string (nullable = true)\n",
            " |-- V7: string (nullable = true)\n",
            " |-- V8: string (nullable = true)\n",
            " |-- V9: string (nullable = true)\n",
            " |-- V10: string (nullable = true)\n",
            " |-- V11: string (nullable = true)\n",
            " |-- V12: string (nullable = true)\n",
            " |-- V13: string (nullable = true)\n",
            " |-- V14: string (nullable = true)\n",
            " |-- V15: string (nullable = true)\n",
            " |-- V16: string (nullable = true)\n",
            " |-- V17: string (nullable = true)\n",
            " |-- V18: string (nullable = true)\n",
            " |-- V19: string (nullable = true)\n",
            " |-- V20: string (nullable = true)\n",
            " |-- V21: string (nullable = true)\n",
            " |-- V22: string (nullable = true)\n",
            " |-- V23: string (nullable = true)\n",
            " |-- V24: string (nullable = true)\n",
            " |-- V25: string (nullable = true)\n",
            " |-- V26: string (nullable = true)\n",
            " |-- V27: string (nullable = true)\n",
            " |-- V28: string (nullable = true)\n",
            " |-- Amount: string (nullable = true)\n",
            " |-- Class: string (nullable = true)\n",
            "\n",
            "root\n",
            " |-- Time: float (nullable = true)\n",
            " |-- V1: float (nullable = true)\n",
            " |-- V2: float (nullable = true)\n",
            " |-- V3: float (nullable = true)\n",
            " |-- V4: float (nullable = true)\n",
            " |-- V5: float (nullable = true)\n",
            " |-- V6: float (nullable = true)\n",
            " |-- V7: float (nullable = true)\n",
            " |-- V8: float (nullable = true)\n",
            " |-- V9: float (nullable = true)\n",
            " |-- V10: float (nullable = true)\n",
            " |-- V11: float (nullable = true)\n",
            " |-- V12: float (nullable = true)\n",
            " |-- V13: float (nullable = true)\n",
            " |-- V14: float (nullable = true)\n",
            " |-- V15: float (nullable = true)\n",
            " |-- V16: float (nullable = true)\n",
            " |-- V17: float (nullable = true)\n",
            " |-- V18: float (nullable = true)\n",
            " |-- V19: float (nullable = true)\n",
            " |-- V20: float (nullable = true)\n",
            " |-- V21: float (nullable = true)\n",
            " |-- V22: float (nullable = true)\n",
            " |-- V23: float (nullable = true)\n",
            " |-- V24: float (nullable = true)\n",
            " |-- V25: float (nullable = true)\n",
            " |-- V26: float (nullable = true)\n",
            " |-- V27: float (nullable = true)\n",
            " |-- V28: float (nullable = true)\n",
            " |-- Amount: float (nullable = true)\n",
            " |-- Class: float (nullable = true)\n",
            "\n"
          ],
          "name": "stdout"
        }
      ]
    },
    {
      "cell_type": "code",
      "metadata": {
        "id": "gOejf-kRBp2G",
        "colab_type": "code",
        "outputId": "c7000c6c-3e63-4de0-ae09-0112f22a932a",
        "colab": {
          "base_uri": "https://localhost:8080/",
          "height": 136
        }
      },
      "source": [
        "df.select(\"Class\").groupBy(\"Class\").count().show()"
      ],
      "execution_count": 0,
      "outputs": [
        {
          "output_type": "stream",
          "text": [
            "+-----+------+\n",
            "|Class| count|\n",
            "+-----+------+\n",
            "|  1.0|   492|\n",
            "|  0.0|284315|\n",
            "+-----+------+\n",
            "\n"
          ],
          "name": "stdout"
        }
      ]
    },
    {
      "cell_type": "code",
      "metadata": {
        "id": "iQ1YEHQUFEj8",
        "colab_type": "code",
        "colab": {}
      },
      "source": [
        "df.createOrReplaceTempView(\"df\")"
      ],
      "execution_count": 0,
      "outputs": []
    },
    {
      "cell_type": "code",
      "metadata": {
        "id": "MIp4ISZTDGNu",
        "colab_type": "code",
        "outputId": "3290bc05-2eae-43a9-c65d-1b03bc1e8cd7",
        "colab": {
          "base_uri": "https://localhost:8080/",
          "height": 136
        }
      },
      "source": [
        "sparksession.sql(\"select class, count(class)*100/(select count(class) from df) as perc from df group by class\").show() #Checking for percentage of fraud to non - fraud transactions in the data set."
      ],
      "execution_count": 0,
      "outputs": [
        {
          "output_type": "stream",
          "text": [
            "+-----+------------------+\n",
            "|class|              perc|\n",
            "+-----+------------------+\n",
            "|  1.0|0.1727485630620034|\n",
            "|  0.0|   99.827251436938|\n",
            "+-----+------------------+\n",
            "\n"
          ],
          "name": "stdout"
        }
      ]
    },
    {
      "cell_type": "code",
      "metadata": {
        "id": "7rPNgDfgG9fE",
        "colab_type": "code",
        "colab": {}
      },
      "source": [
        "from pyspark.ml.feature import Tokenizer, \\\n",
        "StopWordsRemover, \\\n",
        "StringIndexer, \\\n",
        "Word2Vec, \\\n",
        "OneHotEncoderEstimator, \\\n",
        "RegexTokenizer, \\\n",
        "CountVectorizer,\\\n",
        "VectorAssembler\n"
      ],
      "execution_count": 0,
      "outputs": []
    },
    {
      "cell_type": "code",
      "metadata": {
        "id": "3jHPUJteSA08",
        "colab_type": "code",
        "colab": {}
      },
      "source": [
        "from pyspark.ml.classification import LogisticRegression, MultilayerPerceptronClassifier"
      ],
      "execution_count": 0,
      "outputs": []
    },
    {
      "cell_type": "code",
      "metadata": {
        "id": "Qx-P2B_tTeRz",
        "colab_type": "code",
        "colab": {}
      },
      "source": [
        "Vector_Assembler=VectorAssembler(inputCols=feature_names,outputCol=\"feature_combined\")\n",
        "dfva=Vector_Assembler.transform(df)\n",
        "train,test=dfva.randomSplit([0.8,0.2],seed=711)"
      ],
      "execution_count": 0,
      "outputs": []
    },
    {
      "cell_type": "code",
      "metadata": {
        "id": "O4lE5nFWT0wZ",
        "colab_type": "code",
        "outputId": "b7072d60-e963-4d9a-e5b7-7cfe8026ddd6",
        "colab": {
          "base_uri": "https://localhost:8080/",
          "height": 136
        }
      },
      "source": [
        "train.createOrReplaceTempView(\"train\")\n",
        "sparksession.sql(\"select class, count(class)*100/(select count(class) from train) as perc from train group by class\").show()\n",
        "\n"
      ],
      "execution_count": 0,
      "outputs": [
        {
          "output_type": "stream",
          "text": [
            "+-----+------------------+\n",
            "|class|              perc|\n",
            "+-----+------------------+\n",
            "|  1.0|0.1742427899913537|\n",
            "|  0.0| 99.82575721000865|\n",
            "+-----+------------------+\n",
            "\n"
          ],
          "name": "stdout"
        }
      ]
    },
    {
      "cell_type": "code",
      "metadata": {
        "id": "H-2yveOWJVA2",
        "colab_type": "code",
        "colab": {}
      },
      "source": [
        "Logistic_Regression=LogisticRegression(maxIter=40, regParam=0.1, labelCol='Class', featuresCol='feature_combined', threshold=0.5)\n",
        "LRmodel=Logistic_Regression.fit(train)\n"
      ],
      "execution_count": 0,
      "outputs": []
    },
    {
      "cell_type": "code",
      "metadata": {
        "id": "q0HlBg2ablyV",
        "colab_type": "code",
        "colab": {}
      },
      "source": [
        "predictions=LRmodel.transform(test)\n"
      ],
      "execution_count": 0,
      "outputs": []
    },
    {
      "cell_type": "code",
      "metadata": {
        "id": "Cx1uj_L-cVYl",
        "colab_type": "code",
        "colab": {}
      },
      "source": [
        "result=LRmodel.evaluate(test)"
      ],
      "execution_count": 0,
      "outputs": []
    },
    {
      "cell_type": "code",
      "metadata": {
        "id": "CQmIyzRTcBq8",
        "colab_type": "code",
        "outputId": "a065ae7d-f684-410d-be6a-ae4add324973",
        "colab": {
          "base_uri": "https://localhost:8080/",
          "height": 34
        }
      },
      "source": [
        "result.accuracy"
      ],
      "execution_count": 0,
      "outputs": [
        {
          "output_type": "execute_result",
          "data": {
            "text/plain": [
              "0.9985956042412751"
            ]
          },
          "metadata": {
            "tags": []
          },
          "execution_count": 21
        }
      ]
    },
    {
      "cell_type": "code",
      "metadata": {
        "id": "gijrdNVAvvUl",
        "colab_type": "code",
        "colab": {}
      },
      "source": [
        "result."
      ],
      "execution_count": 0,
      "outputs": []
    },
    {
      "cell_type": "code",
      "metadata": {
        "id": "vFqmeoEGdNh7",
        "colab_type": "code",
        "colab": {}
      },
      "source": [
        "import numpy as np"
      ],
      "execution_count": 0,
      "outputs": []
    },
    {
      "cell_type": "code",
      "metadata": {
        "id": "hPBxSJPg-K9Y",
        "colab_type": "code",
        "colab": {}
      },
      "source": [
        "layers = [29, 20, 2]"
      ],
      "execution_count": 0,
      "outputs": []
    },
    {
      "cell_type": "code",
      "metadata": {
        "id": "HaLldqADllxf",
        "colab_type": "code",
        "colab": {}
      },
      "source": [
        "nn_trainer = MultilayerPerceptronClassifier(maxIter=10, layers=layers, seed=1234, featuresCol='feature_combined', labelCol='Class')"
      ],
      "execution_count": 0,
      "outputs": []
    },
    {
      "cell_type": "code",
      "metadata": {
        "id": "J-n1x70roHj7",
        "colab_type": "code",
        "colab": {}
      },
      "source": [
        "nn_fit = nn_trainer.fit(train)"
      ],
      "execution_count": 0,
      "outputs": []
    },
    {
      "cell_type": "code",
      "metadata": {
        "id": "4CJ_2IclocNj",
        "colab_type": "code",
        "colab": {}
      },
      "source": [
        "nn_predictions=nn_fit.transform(test)"
      ],
      "execution_count": 0,
      "outputs": []
    },
    {
      "cell_type": "code",
      "metadata": {
        "id": "XlafOv9jp3zT",
        "colab_type": "code",
        "outputId": "05da2ae6-edbb-471f-b581-f1189bcfb236",
        "colab": {
          "base_uri": "https://localhost:8080/",
          "height": 289
        }
      },
      "source": [
        "nn_predictions.select('prediction', 'Class').orderBy(F.rand()).show(10)"
      ],
      "execution_count": 0,
      "outputs": [
        {
          "output_type": "stream",
          "text": [
            "+----------+-----+\n",
            "|prediction|Class|\n",
            "+----------+-----+\n",
            "|       0.0|  0.0|\n",
            "|       0.0|  0.0|\n",
            "|       0.0|  0.0|\n",
            "|       0.0|  0.0|\n",
            "|       0.0|  0.0|\n",
            "|       0.0|  0.0|\n",
            "|       0.0|  0.0|\n",
            "|       0.0|  0.0|\n",
            "|       0.0|  0.0|\n",
            "|       0.0|  0.0|\n",
            "+----------+-----+\n",
            "only showing top 10 rows\n",
            "\n"
          ],
          "name": "stdout"
        }
      ]
    },
    {
      "cell_type": "code",
      "metadata": {
        "id": "5RV1QZDdqqn0",
        "colab_type": "code",
        "outputId": "e470e8df-b336-4d67-9be7-5a6cda002ac1",
        "colab": {
          "base_uri": "https://localhost:8080/",
          "height": 34
        }
      },
      "source": [
        "nn_predictions.filter(F.col('prediction') == F.col('Class')).count() / nn_predictions.count()"
      ],
      "execution_count": 0,
      "outputs": [
        {
          "output_type": "execute_result",
          "data": {
            "text/plain": [
              "0.9988764833930202"
            ]
          },
          "metadata": {
            "tags": []
          },
          "execution_count": 38
        }
      ]
    },
    {
      "cell_type": "code",
      "metadata": {
        "id": "4X-dJd9DshRU",
        "colab_type": "code",
        "colab": {}
      },
      "source": [
        "def combine_strigs(t1,t2):\n",
        "  return t1 + t2"
      ],
      "execution_count": 0,
      "outputs": []
    },
    {
      "cell_type": "code",
      "metadata": {
        "id": "Kf0YgHiPshbD",
        "colab_type": "code",
        "colab": {}
      },
      "source": [
        "strng_combiner = F.udf(combine_strigs, T.StringType())"
      ],
      "execution_count": 0,
      "outputs": []
    },
    {
      "cell_type": "code",
      "metadata": {
        "id": "qT47cYJ8s9ud",
        "colab_type": "code",
        "outputId": "fe8e8cbe-5f9d-48ab-893c-ac7b1cdbd392",
        "colab": {
          "base_uri": "https://localhost:8080/",
          "height": 459
        }
      },
      "source": [
        "df.select(strng_combiner('V1', 'V2')).show()"
      ],
      "execution_count": 0,
      "outputs": [
        {
          "output_type": "stream",
          "text": [
            "+----------------------+\n",
            "|combine_strigs(V1, V2)|\n",
            "+----------------------+\n",
            "|  -1.3598071336738-...|\n",
            "|  1.191857111314860...|\n",
            "|  -1.35835406159823...|\n",
            "|  -0.96627171157208...|\n",
            "|  -1.15823309349523...|\n",
            "|  -0.42596588441245...|\n",
            "|  1.229657634507930...|\n",
            "|  -0.64426944234814...|\n",
            "|  -0.89428608220282...|\n",
            "|  -0.33826175242575...|\n",
            "|  1.44904378114715-...|\n",
            "|  0.384978215180950...|\n",
            "|  1.249998742053-1....|\n",
            "|  1.06937358788190....|\n",
            "|  -2.7918547659339-...|\n",
            "|  -0.75241704295660...|\n",
            "|  1.10321543528383-...|\n",
            "|  -0.43690507136062...|\n",
            "|  -5.40125766315825...|\n",
            "|  1.4929359769862-1...|\n",
            "+----------------------+\n",
            "only showing top 20 rows\n",
            "\n"
          ],
          "name": "stdout"
        }
      ]
    },
    {
      "cell_type": "code",
      "metadata": {
        "id": "6n-F2PbJsVIu",
        "colab_type": "code",
        "outputId": "2468d63e-6bae-4c77-ba98-b9c8c78a13fc",
        "colab": {
          "base_uri": "https://localhost:8080/",
          "height": 578
        }
      },
      "source": [
        "df.printSchema()"
      ],
      "execution_count": 0,
      "outputs": [
        {
          "output_type": "stream",
          "text": [
            "root\n",
            " |-- Time: string (nullable = true)\n",
            " |-- V1: string (nullable = true)\n",
            " |-- V2: string (nullable = true)\n",
            " |-- V3: string (nullable = true)\n",
            " |-- V4: string (nullable = true)\n",
            " |-- V5: string (nullable = true)\n",
            " |-- V6: string (nullable = true)\n",
            " |-- V7: string (nullable = true)\n",
            " |-- V8: string (nullable = true)\n",
            " |-- V9: string (nullable = true)\n",
            " |-- V10: string (nullable = true)\n",
            " |-- V11: string (nullable = true)\n",
            " |-- V12: string (nullable = true)\n",
            " |-- V13: string (nullable = true)\n",
            " |-- V14: string (nullable = true)\n",
            " |-- V15: string (nullable = true)\n",
            " |-- V16: string (nullable = true)\n",
            " |-- V17: string (nullable = true)\n",
            " |-- V18: string (nullable = true)\n",
            " |-- V19: string (nullable = true)\n",
            " |-- V20: string (nullable = true)\n",
            " |-- V21: string (nullable = true)\n",
            " |-- V22: string (nullable = true)\n",
            " |-- V23: string (nullable = true)\n",
            " |-- V24: string (nullable = true)\n",
            " |-- V25: string (nullable = true)\n",
            " |-- V26: string (nullable = true)\n",
            " |-- V27: string (nullable = true)\n",
            " |-- V28: string (nullable = true)\n",
            " |-- Amount: string (nullable = true)\n",
            " |-- Class: string (nullable = true)\n",
            "\n"
          ],
          "name": "stdout"
        }
      ]
    },
    {
      "cell_type": "code",
      "metadata": {
        "id": "z6hzVEx3sVMF",
        "colab_type": "code",
        "colab": {}
      },
      "source": [
        ""
      ],
      "execution_count": 0,
      "outputs": []
    },
    {
      "cell_type": "code",
      "metadata": {
        "id": "rZtEMKWOsVP8",
        "colab_type": "code",
        "colab": {}
      },
      "source": [
        ""
      ],
      "execution_count": 0,
      "outputs": []
    }
  ]
}
