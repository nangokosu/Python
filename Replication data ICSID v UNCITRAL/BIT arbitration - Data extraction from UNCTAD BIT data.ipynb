{
 "cells": [
  {
   "cell_type": "code",
   "execution_count": 1,
   "metadata": {},
   "outputs": [],
   "source": [
    "import pandas as pd\n",
    "import seaborn as sns\n",
    "import matplotlib.pyplot as plt\n",
    "import re\n",
    "import numpy as np"
   ]
  },
  {
   "cell_type": "code",
   "execution_count": 2,
   "metadata": {},
   "outputs": [
    {
     "name": "stdout",
     "output_type": "stream",
     "text": [
      "   NO.  YEAR OF INITIATION                       SHORT CASE NAME  \\\n",
      "0    1                2019                      Alcosa v. Kuwait   \n",
      "1    2                2019             Axiata and Ncell v. Nepal   \n",
      "2    3                2019                  Bahari v. Azerbaijan   \n",
      "3    4                2019                       Canepa v. Spain   \n",
      "4    5                2019         Dalal v. United Arab Emirates   \n",
      "5    6                2019             Díaz Gaspar v. Costa Rica   \n",
      "6    7                2019                Enel Fortuna v. Panama   \n",
      "7    8                2019  Glencore and others v. Colombia (II)   \n",
      "8    9                2019         Impresa Pizzarotti v. Morocco   \n",
      "9   10                2019          Jetion and T-Hertz v. Greece   \n",
      "\n",
      "                                      FULL CASE NAME  \\\n",
      "0                      Alcosa v. The State of Kuwait   \n",
      "1  Axiata Investments (UK) Limited and Ncell Priv...   \n",
      "2                      Mohammad Bahari v. Azerbaijan   \n",
      "3  Canepa Green Energy Opportunities I, S.á r.l. ...   \n",
      "4  Shokat Mohammed Dalal v. United Arab Emirates ...   \n",
      "5  Alejandro Diego Díaz Gaspar v. Republic of Cos...   \n",
      "6  Enel Fortuna S.A. v. Republic of Panama (ICSID...   \n",
      "7  Glencore International A.G., C. I. Prodeco S.A...   \n",
      "8  Impresa Pizzarotti & C. S.p.A. v. Kingdom of M...   \n",
      "9  Jetion Solar Co. Ltd and Wuxi T-Hertz Co. Ltd....   \n",
      "\n",
      "                                      APPLICABLE IIA  \\\n",
      "0                          Kuwait - Spain BIT (2005)   \n",
      "1                  Nepal - United Kingdom BIT (1993)   \n",
      "2  Azerbaijan - Iran, Islamic Republic of BIT (1996)   \n",
      "3                   The Energy Charter Treaty (1994)   \n",
      "4   United Arab Emirates - United Kingdom BIT (1992)   \n",
      "5                      Costa Rica - Spain BIT (1997)   \n",
      "6                          Italy - Panama BIT (2009)   \n",
      "7                  Colombia - Switzerland BIT (2006)   \n",
      "8                         Italy - Morocco BIT (1990)   \n",
      "9                          China - Greece BIT (1992)   \n",
      "\n",
      "                                      ARBITRAL RULES  \\\n",
      "0                                           UNCITRAL   \n",
      "1  ICSID (International Centre for Settlement of ...   \n",
      "2                                      None (ad hoc)   \n",
      "3  ICSID (International Centre for Settlement of ...   \n",
      "4  ICSID (International Centre for Settlement of ...   \n",
      "5  ICSID (International Centre for Settlement of ...   \n",
      "6  ICSID (International Centre for Settlement of ...   \n",
      "7  ICSID (International Centre for Settlement of ...   \n",
      "8  ICSID (International Centre for Settlement of ...   \n",
      "9                                           UNCITRAL   \n",
      "\n",
      "                           ADMINISTERING INSTITUTION  \\\n",
      "0               PCA (Permanent Court of Arbitration)   \n",
      "1  ICSID (International Centre for Settlement of ...   \n",
      "2                None (no administering institution)   \n",
      "3  ICSID (International Centre for Settlement of ...   \n",
      "4  ICSID (International Centre for Settlement of ...   \n",
      "5  ICSID (International Centre for Settlement of ...   \n",
      "6  ICSID (International Centre for Settlement of ...   \n",
      "7  ICSID (International Centre for Settlement of ...   \n",
      "8  ICSID (International Centre for Settlement of ...   \n",
      "9                None (no administering institution)   \n",
      "\n",
      "  STATUS/OUTCOME OF ORIGINAL PROCEEDINGS      RESPONDENT STATE  \\\n",
      "0                                Pending                Kuwait   \n",
      "1                                Pending                 Nepal   \n",
      "2                                Pending            Azerbaijan   \n",
      "3                                Pending                 Spain   \n",
      "4                                Pending  United Arab Emirates   \n",
      "5                                Pending            Costa Rica   \n",
      "6                                Pending                Panama   \n",
      "7                                Pending              Colombia   \n",
      "8                                Pending               Morocco   \n",
      "9                                Pending                Greece   \n",
      "\n",
      "      HOME STATE OF INVESTOR  ...    INDIVIDUAL OPINIONS    BREACHES ALLEGED  \\\n",
      "0                      Spain  ...  No decisions recorded  Data not available   \n",
      "1             United Kingdom  ...  No decisions recorded  Data not available   \n",
      "2  Iran, Islamic Republic of  ...  No decisions recorded  Data not available   \n",
      "3                 Luxembourg  ...  No decisions recorded  Data not available   \n",
      "4             United Kingdom  ...  No decisions recorded  Data not available   \n",
      "5                      Spain  ...  No decisions recorded  Data not available   \n",
      "6                     Panama  ...  No decisions recorded  Data not available   \n",
      "7                Switzerland  ...  No decisions recorded  Data not available   \n",
      "8                      Italy  ...  No decisions recorded  Data not available   \n",
      "9                      China  ...  No decisions recorded  Data not available   \n",
      "\n",
      "  BREACHES FOUND FOLLOW-ON PROCEEDING TYPE FOLLOW-ON PROCEEDING STATUS  \\\n",
      "0        Pending             None recorded                        None   \n",
      "1        Pending             None recorded                        None   \n",
      "2        Pending             None recorded                        None   \n",
      "3        Pending             None recorded                        None   \n",
      "4        Pending             None recorded                        None   \n",
      "5        Pending             None recorded                        None   \n",
      "6        Pending             None recorded                        None   \n",
      "7        Pending             None recorded                        None   \n",
      "8        Pending             None recorded                        None   \n",
      "9        Pending             None recorded                        None   \n",
      "\n",
      "  FOLLOW-ON DECISIONS       FOLLOW-ON INDIVIDUAL OPINIONS  \\\n",
      "0                None  No follow-up proceedings initiated   \n",
      "1                None  No follow-up proceedings initiated   \n",
      "2                None  No follow-up proceedings initiated   \n",
      "3                None  No follow-up proceedings initiated   \n",
      "4                None  No follow-up proceedings initiated   \n",
      "5                None  No follow-up proceedings initiated   \n",
      "6                None  No follow-up proceedings initiated   \n",
      "7                None  No follow-up proceedings initiated   \n",
      "8                None  No follow-up proceedings initiated   \n",
      "9                None  No follow-up proceedings initiated   \n",
      "\n",
      "  ICSID ANNULMENT COMMITTEE MEMBERS LINK TO ITALAW'S CASE PAGE  \\\n",
      "0                              None              None recorded   \n",
      "1                              None              None recorded   \n",
      "2                              None              None recorded   \n",
      "3                              None              None recorded   \n",
      "4                              None              None recorded   \n",
      "5                              None              None recorded   \n",
      "6                              None              None recorded   \n",
      "7                              None              None recorded   \n",
      "8                              None              None recorded   \n",
      "9                              None              None recorded   \n",
      "\n",
      "                         LINKS TO BACKGROUND SOURCES  \n",
      "0  https://www.iareporter.com/articles/kuwait-inv...  \n",
      "1  https://icsid.worldbank.org/en/Pages/cases/cas...  \n",
      "2  https://www.iareporter.com/articles/azerbaijan...  \n",
      "3  https://icsid.worldbank.org/en/Pages/cases/cas...  \n",
      "4  https://icsid.worldbank.org/en/Pages/cases/cas...  \n",
      "5  https://icsid.worldbank.org/en/Pages/cases/cas...  \n",
      "6  https://icsid.worldbank.org/en/Pages/cases/cas...  \n",
      "7  https://icsid.worldbank.org/en/Pages/cases/cas...  \n",
      "8  https://icsid.worldbank.org/en/Pages/cases/cas...  \n",
      "9  https://www.iareporter.com/articles/chinese-in...  \n",
      "\n",
      "[10 rows x 28 columns]\n"
     ]
    }
   ],
   "source": [
    "case_details=pd.read_excel(\"C:/Users/nango/UNCTAD-ISDS-Navigator-release-of-ISDS-data-set-31July2019.xlsx\")\n",
    "print(case_details.head(10))"
   ]
  },
  {
   "cell_type": "code",
   "execution_count": 3,
   "metadata": {},
   "outputs": [],
   "source": [
    "def extractor(column,list_omit = None):\n",
    "    valid=[text.split(\";\\n\") for text in case_details[column]]\n",
    "    column_element=set()\n",
    "    for element in valid:\n",
    "        for element2 in element:\n",
    "            column_element.add(element2)\n",
    "    if list_omit!=None:\n",
    "        for element_omit in list_omit:\n",
    "            column_element.remove(element_omit)\n",
    "    return list(column_element)\n",
    "\n",
    "def binary_converter(column,suffix,list_omit = None):\n",
    "    values=[]\n",
    "    column_element_list=extractor(column,list_omit)\n",
    "    for element3 in column_element_list:\n",
    "        element_column=[]\n",
    "        for element4 in case_details[column]:\n",
    "            if element3 in element4:\n",
    "                element_column.append(1)\n",
    "            else: element_column.append(0)\n",
    "        values.append(element_column)\n",
    "    for index,a_column_element in enumerate(column_element_list):\n",
    "        case_details[a_column_element+suffix]=values[index]\n",
    "   "
   ]
  },
  {
   "cell_type": "code",
   "execution_count": 4,
   "metadata": {},
   "outputs": [],
   "source": [
    "economic_sector=[text.split(\";\\n\") for text in case_details[\"ECONOMIC SECTOR\"]]\n",
    "sector=set()\n",
    "for sectorlist in economic_sector:\n",
    "    for element in sectorlist:\n",
    "        sector_class=re.findall(r\"^\\w*\",element)[0]\n",
    "        sector.add(sector_class)\n",
    "for element in ['Data']:\n",
    "    sector.remove(element)\n",
    "    \n",
    "sector_values=[]\n",
    "sectorlist=list(sector)\n",
    "for element in sectorlist:\n",
    "    sector_column=[]\n",
    "    for element2 in case_details[\"ECONOMIC SECTOR\"]:\n",
    "            if element in element2:\n",
    "                sector_column.append(1)\n",
    "            else: sector_column.append(0)\n",
    "    sector_values.append(sector_column)\n",
    "\n",
    "for index, sector in enumerate(sectorlist):\n",
    "    case_details[sector +\"_SECTOR\"]=sector_values[index]"
   ]
  },
  {
   "cell_type": "markdown",
   "metadata": {},
   "source": [
    "We choose to exclude certain levels:\n",
    "- For alleged breaches, we exlude UNCTAD entries that are unclear or others, focusing on main allegations.\n",
    "- For proceeding status, we exclude unknown ICSID annulment proceedings, discontinued for unknown reasons, unknown proceedings and pending proceedings to focus on established results.\n",
    "- For proceeding types, we do not exclude anything\n",
    "- For breaches found, we exclude other verdicts rendered to focus on the main allegations."
   ]
  },
  {
   "cell_type": "code",
   "execution_count": 5,
   "metadata": {},
   "outputs": [],
   "source": [
    "binary_converter(\"BREACHES ALLEGED\",'_ALLEGED',[\"Unclear\",\"Other\"])\n",
    "binary_converter(\"FOLLOW-ON PROCEEDING STATUS\",'_PROCEEDING STATUS',['Unknown ICSID annulment proceedings','Discontinued for unknown reasons ICSID resubmission proceedings','Pending ICSID annulment proceedings','Pending Judicial review by national courts','Discontinued ICSID annulment proceedings'])\n",
    "binary_converter('FOLLOW-ON PROCEEDING TYPE','_PROCEEDING TYPE')\n",
    "binary_converter(\"BREACHES FOUND\",\"_FOUND\",[\"Other\"])"
   ]
  },
  {
   "cell_type": "markdown",
   "metadata": {},
   "source": [
    "Decision years are considered as the final year when a decision is rendered"
   ]
  },
  {
   "cell_type": "code",
   "execution_count": 6,
   "metadata": {},
   "outputs": [],
   "source": [
    "decision_date=[re.findall(r\"[21][09]\\d\\d\",element) for element in case_details[\"DECISIONS\"]]\n",
    "decision_date=[max(list(map(int,element))) if len(element)!=0 else np.nan for element in decision_date]\n",
    "case_details[\"FINAL DECISION DATE\"]=decision_date"
   ]
  },
  {
   "cell_type": "code",
   "execution_count": 7,
   "metadata": {},
   "outputs": [],
   "source": [
    "decision_date_fo=[re.findall(r\"[21][09]\\d\\d\",element) for element in case_details[\"FOLLOW-ON DECISIONS\"]]\n",
    "decision_date_fo=[max(list(map(int,element))) if len(element)!=0 else np.nan for element in decision_date_fo]\n",
    "case_details[\"FINAL DECISION DATE WITH FOLLOW - ON\"]=decision_date_fo"
   ]
  },
  {
   "cell_type": "code",
   "execution_count": 8,
   "metadata": {},
   "outputs": [
    {
     "name": "stdout",
     "output_type": "stream",
     "text": [
      "Vento v. Mexico                              1\n",
      "Burlington v. Ecuador                        1\n",
      "Solarpark v. Spain                           1\n",
      "Conseil Economique v. The State of Kuwait    1\n",
      "Besserglik v. Mozambique                     1\n",
      "                                            ..\n",
      "Houben v. Burundi                            1\n",
      "Cemusa v. Mexico                             1\n",
      "Gramercy v. Peru                             1\n",
      "Turkcell v. Iran                             1\n",
      "BG v. Argentina                              1\n",
      "Name: SHORT CASE NAME, Length: 983, dtype: int64\n"
     ]
    }
   ],
   "source": [
    "print(case_details[\"SHORT CASE NAME\"].value_counts())\n",
    "testing4=[text.split(\" v. \") for text in case_details[\"SHORT CASE NAME\"]]\n",
    "case_details[\"COMPANY\"]=[element[0] for element in testing4]\n"
   ]
  },
  {
   "cell_type": "code",
   "execution_count": 9,
   "metadata": {},
   "outputs": [
    {
     "name": "stdout",
     "output_type": "stream",
     "text": [
      "   NO.  YEAR OF INITIATION                SHORT CASE NAME  \\\n",
      "0    1                2019               Alcosa v. Kuwait   \n",
      "1    2                2019      Axiata and Ncell v. Nepal   \n",
      "2    3                2019           Bahari v. Azerbaijan   \n",
      "3    4                2019                Canepa v. Spain   \n",
      "4    5                2019  Dalal v. United Arab Emirates   \n",
      "\n",
      "                                      FULL CASE NAME  \\\n",
      "0                      Alcosa v. The State of Kuwait   \n",
      "1  Axiata Investments (UK) Limited and Ncell Priv...   \n",
      "2                      Mohammad Bahari v. Azerbaijan   \n",
      "3  Canepa Green Energy Opportunities I, S.á r.l. ...   \n",
      "4  Shokat Mohammed Dalal v. United Arab Emirates ...   \n",
      "\n",
      "                                      APPLICABLE IIA  \\\n",
      "0                          Kuwait - Spain BIT (2005)   \n",
      "1                  Nepal - United Kingdom BIT (1993)   \n",
      "2  Azerbaijan - Iran, Islamic Republic of BIT (1996)   \n",
      "3                   The Energy Charter Treaty (1994)   \n",
      "4   United Arab Emirates - United Kingdom BIT (1992)   \n",
      "\n",
      "                                      ARBITRAL RULES  \\\n",
      "0                                           UNCITRAL   \n",
      "1  ICSID (International Centre for Settlement of ...   \n",
      "2                                      None (ad hoc)   \n",
      "3  ICSID (International Centre for Settlement of ...   \n",
      "4  ICSID (International Centre for Settlement of ...   \n",
      "\n",
      "                           ADMINISTERING INSTITUTION  \\\n",
      "0               PCA (Permanent Court of Arbitration)   \n",
      "1  ICSID (International Centre for Settlement of ...   \n",
      "2                None (no administering institution)   \n",
      "3  ICSID (International Centre for Settlement of ...   \n",
      "4  ICSID (International Centre for Settlement of ...   \n",
      "\n",
      "  STATUS/OUTCOME OF ORIGINAL PROCEEDINGS      RESPONDENT STATE  \\\n",
      "0                                Pending                Kuwait   \n",
      "1                                Pending                 Nepal   \n",
      "2                                Pending            Azerbaijan   \n",
      "3                                Pending                 Spain   \n",
      "4                                Pending  United Arab Emirates   \n",
      "\n",
      "      HOME STATE OF INVESTOR  ...  \\\n",
      "0                      Spain  ...   \n",
      "1             United Kingdom  ...   \n",
      "2  Iran, Islamic Republic of  ...   \n",
      "3                 Luxembourg  ...   \n",
      "4             United Kingdom  ...   \n",
      "\n",
      "  Not applicable - settled or discontinued before decision on liability_FOUND  \\\n",
      "0                                                  0                            \n",
      "1                                                  0                            \n",
      "2                                                  0                            \n",
      "3                                                  0                            \n",
      "4                                                  0                            \n",
      "\n",
      "  Arbitrary, unreasonable and/or discriminatory measures_FOUND  \\\n",
      "0                                                  0             \n",
      "1                                                  0             \n",
      "2                                                  0             \n",
      "3                                                  0             \n",
      "4                                                  0             \n",
      "\n",
      "  Performance requirements_FOUND  \\\n",
      "0                              0   \n",
      "1                              0   \n",
      "2                              0   \n",
      "3                              0   \n",
      "4                              0   \n",
      "\n",
      "  None - all claims dismissed at the merits stage_FOUND  \\\n",
      "0                                                  0      \n",
      "1                                                  0      \n",
      "2                                                  0      \n",
      "3                                                  0      \n",
      "4                                                  0      \n",
      "\n",
      "  Full protection and security, or similar_FOUND Indirect expropriation_FOUND  \\\n",
      "0                                              0                            0   \n",
      "1                                              0                            0   \n",
      "2                                              0                            0   \n",
      "3                                              0                            0   \n",
      "4                                              0                            0   \n",
      "\n",
      "  None - jurisdiction declined_FOUND FINAL DECISION DATE  \\\n",
      "0                                  0                 NaN   \n",
      "1                                  0                 NaN   \n",
      "2                                  0                 NaN   \n",
      "3                                  0                 NaN   \n",
      "4                                  0                 NaN   \n",
      "\n",
      "  FINAL DECISION DATE WITH FOLLOW - ON           COMPANY  \n",
      "0                                  NaN            Alcosa  \n",
      "1                                  NaN  Axiata and Ncell  \n",
      "2                                  NaN            Bahari  \n",
      "3                                  NaN            Canepa  \n",
      "4                                  NaN             Dalal  \n",
      "\n",
      "[5 rows x 80 columns]\n"
     ]
    }
   ],
   "source": [
    "print(case_details.head(5))"
   ]
  },
  {
   "cell_type": "code",
   "execution_count": 10,
   "metadata": {},
   "outputs": [
    {
     "name": "stderr",
     "output_type": "stream",
     "text": [
      "C:\\Users\\nango\\anaconda3\\lib\\site-packages\\ipykernel_launcher.py:2: SettingWithCopyWarning: \n",
      "A value is trying to be set on a copy of a slice from a DataFrame\n",
      "\n",
      "See the caveats in the documentation: https://pandas.pydata.org/pandas-docs/stable/user_guide/indexing.html#returning-a-view-versus-a-copy\n",
      "  \n"
     ]
    }
   ],
   "source": [
    "target=['ICSID(AF)',\"UNCITRAL\"]\n",
    "case_details[\"ARBITRAL RULES\"][(case_details[\"ARBITRAL RULES\"]==\"ICSID (International Centre for Settlement of Investment Disputes)\")|(case_details[\"ARBITRAL RULES\"]==\"ICSID AF (ICSID Additional Facility)\")]=\"ICSID(AF)\"\n",
    "filters=[True if case in target else False for case in case_details[\"ARBITRAL RULES\"]]\n",
    "case_details=case_details[filters]"
   ]
  },
  {
   "cell_type": "code",
   "execution_count": 11,
   "metadata": {},
   "outputs": [],
   "source": [
    "filter2=case_details['APPLICABLE IIA'].str.contains(\"BIT\")\n",
    "case_details=case_details[filter2]"
   ]
  },
  {
   "cell_type": "code",
   "execution_count": 12,
   "metadata": {},
   "outputs": [],
   "source": [
    "case_details[\"AWARD CLAIMED IN US MILLION\"]=[re.findall(r'([\\d.]*)\\sUSD',string) for string in case_details[\"AMOUNT CLAIMED (EXPRESSED IN MILLIONS)\"]]\n",
    "case_details[\"AWARD CLAIMED IN US MILLION\"]=[string[0] if len(string)>0 else np.nan for string in case_details[\"AWARD CLAIMED IN US MILLION\"]]\n",
    "case_details[\"AWARD RECEIVED IN US MILLION\"]=[re.findall(r'([\\d.]*)\\sUSD',string) for string in case_details[\"AMOUNT AWARDED (OR SETTLED FOR) (EXPRESSED IN MILLIONS)\"]]\n",
    "case_details[\"AWARD RECEIVED IN US MILLION\"]=[string[0] if len(string)>0 else np.nan for string in case_details[\"AWARD RECEIVED IN US MILLION\"]]"
   ]
  },
  {
   "cell_type": "code",
   "execution_count": 13,
   "metadata": {},
   "outputs": [
    {
     "name": "stderr",
     "output_type": "stream",
     "text": [
      "C:\\Users\\nango\\anaconda3\\lib\\site-packages\\ipykernel_launcher.py:7: SettingWithCopyWarning: \n",
      "A value is trying to be set on a copy of a slice from a DataFrame\n",
      "\n",
      "See the caveats in the documentation: https://pandas.pydata.org/pandas-docs/stable/user_guide/indexing.html#returning-a-view-versus-a-copy\n",
      "  import sys\n"
     ]
    }
   ],
   "source": [
    "import world_bank_data as wb\n",
    "countries=wb.get_countries()\n",
    "current_name=[\"Egypt, Arab Rep.\",\"Cote d'Ivoire\",\"Korea, Rep.\",'Lao PDR',\"Korea, Dem. People’s Rep.\",\"Vietnam\",\"Venezuela, RB\",\"Kyrgyz Republic\",\"Gambia, The\",\"Slovak Republic\",\"Yemen, Rep.\",\"Congo, Dem. Rep.\",\"Iran, Islamic Rep.\"]\n",
    "new_name=[\"Egypt\",\"Ivory Coast\",\"South Korea\",\"Laos\",\"North Korea\",\"Viet Nam\",\"Venezuela\",\"Venezuela\",\"Kyrgyzstan\",\"Gambia\",\"Slovakia\",\"Yemen\",\"Congo, Democratic Republic of the\",\"Iran\"]\n",
    "\n",
    "for i in range(len(current_name)):\n",
    "    countries.name[countries.name==current_name[i]]=new_name[i]"
   ]
  },
  {
   "cell_type": "code",
   "execution_count": 14,
   "metadata": {},
   "outputs": [
    {
     "name": "stderr",
     "output_type": "stream",
     "text": [
      "C:\\Users\\nango\\anaconda3\\lib\\site-packages\\ipykernel_launcher.py:1: SettingWithCopyWarning: \n",
      "A value is trying to be set on a copy of a slice from a DataFrame\n",
      "\n",
      "See the caveats in the documentation: https://pandas.pydata.org/pandas-docs/stable/user_guide/indexing.html#returning-a-view-versus-a-copy\n",
      "  \"\"\"Entry point for launching an IPython kernel.\n",
      "C:\\Users\\nango\\anaconda3\\lib\\site-packages\\ipykernel_launcher.py:2: SettingWithCopyWarning: \n",
      "A value is trying to be set on a copy of a slice from a DataFrame\n",
      "\n",
      "See the caveats in the documentation: https://pandas.pydata.org/pandas-docs/stable/user_guide/indexing.html#returning-a-view-versus-a-copy\n",
      "  \n",
      "C:\\Users\\nango\\anaconda3\\lib\\site-packages\\ipykernel_launcher.py:3: SettingWithCopyWarning: \n",
      "A value is trying to be set on a copy of a slice from a DataFrame\n",
      "\n",
      "See the caveats in the documentation: https://pandas.pydata.org/pandas-docs/stable/user_guide/indexing.html#returning-a-view-versus-a-copy\n",
      "  This is separate from the ipykernel package so we can avoid doing imports until\n",
      "C:\\Users\\nango\\anaconda3\\lib\\site-packages\\ipykernel_launcher.py:4: SettingWithCopyWarning: \n",
      "A value is trying to be set on a copy of a slice from a DataFrame\n",
      "\n",
      "See the caveats in the documentation: https://pandas.pydata.org/pandas-docs/stable/user_guide/indexing.html#returning-a-view-versus-a-copy\n",
      "  after removing the cwd from sys.path.\n",
      "C:\\Users\\nango\\anaconda3\\lib\\site-packages\\ipykernel_launcher.py:5: SettingWithCopyWarning: \n",
      "A value is trying to be set on a copy of a slice from a DataFrame\n",
      "\n",
      "See the caveats in the documentation: https://pandas.pydata.org/pandas-docs/stable/user_guide/indexing.html#returning-a-view-versus-a-copy\n",
      "  \"\"\"\n",
      "C:\\Users\\nango\\anaconda3\\lib\\site-packages\\ipykernel_launcher.py:6: SettingWithCopyWarning: \n",
      "A value is trying to be set on a copy of a slice from a DataFrame\n",
      "\n",
      "See the caveats in the documentation: https://pandas.pydata.org/pandas-docs/stable/user_guide/indexing.html#returning-a-view-versus-a-copy\n",
      "  \n",
      "C:\\Users\\nango\\anaconda3\\lib\\site-packages\\ipykernel_launcher.py:7: SettingWithCopyWarning: \n",
      "A value is trying to be set on a copy of a slice from a DataFrame\n",
      "\n",
      "See the caveats in the documentation: https://pandas.pydata.org/pandas-docs/stable/user_guide/indexing.html#returning-a-view-versus-a-copy\n",
      "  import sys\n",
      "C:\\Users\\nango\\anaconda3\\lib\\site-packages\\ipykernel_launcher.py:8: SettingWithCopyWarning: \n",
      "A value is trying to be set on a copy of a slice from a DataFrame\n",
      "\n",
      "See the caveats in the documentation: https://pandas.pydata.org/pandas-docs/stable/user_guide/indexing.html#returning-a-view-versus-a-copy\n",
      "  \n",
      "C:\\Users\\nango\\anaconda3\\lib\\site-packages\\ipykernel_launcher.py:9: SettingWithCopyWarning: \n",
      "A value is trying to be set on a copy of a slice from a DataFrame\n",
      "\n",
      "See the caveats in the documentation: https://pandas.pydata.org/pandas-docs/stable/user_guide/indexing.html#returning-a-view-versus-a-copy\n",
      "  if __name__ == '__main__':\n"
     ]
    }
   ],
   "source": [
    "case_details[\"RESPONDENT STATE\"][case_details[\"RESPONDENT STATE\"]==\"Bolivia, Plurinational State of\"]=\"Bolivia\"\n",
    "case_details[\"RESPONDENT STATE\"][case_details[\"RESPONDENT STATE\"]==\"Korea, Republic of\"]=\"South Korea\"\n",
    "case_details[\"RESPONDENT STATE\"][case_details[\"RESPONDENT STATE\"]==\"Tanzania, United Republic of\"]=\"Tanzania\"\n",
    "case_details[\"RESPONDENT STATE\"][case_details[\"RESPONDENT STATE\"]==\"Venezuela, Bolivarian Republic of\"]=\"Venezuela\"\n",
    "case_details[\"RESPONDENT STATE\"][case_details[\"RESPONDENT STATE\"]==\"Czechia\"]=\"Czech Republic\"\n",
    "case_details[\"RESPONDENT STATE\"][case_details[\"RESPONDENT STATE\"]==\"Lao People's Democratic Republic\"]=\"Laos\"\n",
    "case_details[\"RESPONDENT STATE\"][case_details[\"RESPONDENT STATE\"]==\"Moldova, Republic of\"]=\"Moldova\"\n",
    "case_details[\"RESPONDENT STATE\"][case_details[\"RESPONDENT STATE\"]==\"United States of America\"]=\"United States\"\n",
    "case_details[\"RESPONDENT STATE\"][case_details[\"RESPONDENT STATE\"]==\"Iran, Islamic Republic of\"]=\"Iran\""
   ]
  },
  {
   "cell_type": "code",
   "execution_count": 15,
   "metadata": {},
   "outputs": [],
   "source": [
    "current_name_inv=[\"Bolivia, Plurinational State of\",\"Korea, Republic of\",\"Tanzania, United Republic of\",\"Venezuela, Bolivarian Republic of\",\"Czechia\",\"Lao People's Democratic Republic\",\"Moldova, Republic of\",\"United States of America\",\"Iran, Islamic Republic of\"]\n",
    "new_name_inv=[\"Bolivia\",\"South Korea\",\"Tanzania\",\"Venezuela\",\"Czech Republic\",\"Laos\",\"Moldova\",\"United States\",\"Iran\"]\n",
    "\n",
    "for i in range(len(current_name_inv)):\n",
    "    case_details[\"HOME STATE OF INVESTOR\"][case_details[\"HOME STATE OF INVESTOR\"]==current_name_inv[i]]==new_name_inv[i]"
   ]
  },
  {
   "cell_type": "code",
   "execution_count": 16,
   "metadata": {},
   "outputs": [],
   "source": [
    "countries2=countries[[\"iso2Code\",\"name\",\"region\",\"incomeLevel\"]]\n",
    "export=pd.merge(case_details,countries2,left_on=['RESPONDENT STATE'], right_on=['name'],how='left')\n",
    "final_df=pd.merge(export,countries2,left_on=['HOME STATE OF INVESTOR'],right_on=[\"name\"],how='left')\n",
    "#x is for respondent state, y is for investor state."
   ]
  },
  {
   "cell_type": "code",
   "execution_count": 17,
   "metadata": {},
   "outputs": [],
   "source": [
    "final_df=final_df.drop(columns=[\"FULL CASE NAME\",\"ADMINISTERING INSTITUTION\",\"LINKS TO BACKGROUND SOURCES\",\"ICSID ANNULMENT COMMITTEE MEMBERS\",\"LINK TO ITALAW'S CASE PAGE\",\"FOLLOW-ON INDIVIDUAL OPINIONS\",\"ARBITRATORS\",\"AMOUNT CLAIMED (EXPRESSED IN MILLIONS)\",\"AMOUNT AWARDED (OR SETTLED FOR) (EXPRESSED IN MILLIONS)\",\"FOLLOW-ON DECISIONS\",\"FOLLOW-ON PROCEEDING TYPE\",\"FOLLOW-ON PROCEEDING STATUS\",\"DECISIONS\",\"ECONOMIC SECTOR\",\"ECONOMIC SUBSECTOR\",\"INDIVIDUAL OPINIONS\",\"Data not available_ALLEGED\"])\n"
   ]
  },
  {
   "cell_type": "code",
   "execution_count": 18,
   "metadata": {},
   "outputs": [],
   "source": [
    "final_df.to_excel(\"C:/Users/nango/UNCSTAD full data remodeled.xlsx\",index=False)"
   ]
  }
 ],
 "metadata": {
  "kernelspec": {
   "display_name": "Python 3",
   "language": "python",
   "name": "python3"
  },
  "language_info": {
   "codemirror_mode": {
    "name": "ipython",
    "version": 3
   },
   "file_extension": ".py",
   "mimetype": "text/x-python",
   "name": "python",
   "nbconvert_exporter": "python",
   "pygments_lexer": "ipython3",
   "version": "3.7.6"
  }
 },
 "nbformat": 4,
 "nbformat_minor": 4
}
