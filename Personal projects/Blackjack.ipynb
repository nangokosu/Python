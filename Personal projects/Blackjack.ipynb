{
 "cells": [
  {
   "cell_type": "code",
   "execution_count": 1,
   "metadata": {},
   "outputs": [],
   "source": [
    "import random\n",
    "\n",
    "suits = ('Hearts','Diamonds','Spades','Clubs')\n",
    "ranks = ('Two', 'Three', 'Four', 'Five', 'Six', 'Seven', 'Eight', 'Nine', 'Ten', 'Jack', 'Queen', 'King', 'Ace')\n",
    "values = {'Two':2, 'Three':3, 'Four':4, 'Five':5, 'Six':6, 'Seven':7, 'Eight':8, 'Nine':9, 'Ten':10, 'Jack':10,\n",
    "         'Queen':10, 'King':10, 'Ace':11}"
   ]
  },
  {
   "cell_type": "code",
   "execution_count": 2,
   "metadata": {},
   "outputs": [
    {
     "name": "stdout",
     "output_type": "stream",
     "text": [
      "Seven of Hearts\n"
     ]
    }
   ],
   "source": [
    "class Card:\n",
    "    def __init__(self,tsuit=None,trank=None):\n",
    "        if tsuit!=None:\n",
    "            self.suit=tsuit\n",
    "        else: \n",
    "            suit_index=random.randint(0,len(suits)-1)\n",
    "            self.suit=suits[suit_index]\n",
    "        if trank!=None:\n",
    "            self.rank=trank\n",
    "        else: \n",
    "            rank_index=random.randint(0,len(ranks)-1) \n",
    "            self.rank=ranks[rank_index]\n",
    "    def __str__(self):\n",
    "        return self.rank+\" of \" + self.suit\n",
    "testing=Card(tsuit=\"Hearts\",trank=\"Seven\")\n",
    "print(str(testing))"
   ]
  },
  {
   "cell_type": "code",
   "execution_count": 3,
   "metadata": {},
   "outputs": [],
   "source": [
    "class Deck:\n",
    "    \n",
    "    def __init__(self):\n",
    "        self.deck = []  # start with an empty list\n",
    "        for suit in suits:\n",
    "            for rank in ranks:\n",
    "                card=Card(tsuit=suit,trank=rank)\n",
    "                self.deck.append(card)\n",
    "    \n",
    "    def __str__(self):\n",
    "        return [str(element) for element in self.deck]\n",
    "        \n",
    "    def __len__(self):\n",
    "        return len(self.deck)\n",
    "\n",
    "    def shuffle(self):\n",
    "        random.shuffle(self.deck)\n",
    "        \n",
    "    def deal(self):\n",
    "        deal_index=random.randint(0,len(self.deck)-1)\n",
    "        return self.deck.pop(deal_index)"
   ]
  },
  {
   "cell_type": "code",
   "execution_count": 4,
   "metadata": {},
   "outputs": [
    {
     "name": "stdout",
     "output_type": "stream",
     "text": [
      "52\n",
      "51\n",
      "50\n",
      "Ten of Diamonds <class '__main__.Card'>\n",
      "Six of Spades <class '__main__.Card'>\n",
      "['Two of Hearts', 'Three of Hearts', 'Four of Hearts', 'Five of Hearts', 'Six of Hearts', 'Seven of Hearts', 'Eight of Hearts', 'Nine of Hearts', 'Ten of Hearts', 'Jack of Hearts', 'Queen of Hearts', 'King of Hearts', 'Ace of Hearts', 'Two of Diamonds', 'Three of Diamonds', 'Four of Diamonds', 'Five of Diamonds', 'Six of Diamonds', 'Seven of Diamonds', 'Eight of Diamonds', 'Nine of Diamonds', 'Jack of Diamonds', 'Queen of Diamonds', 'King of Diamonds', 'Ace of Diamonds', 'Two of Spades', 'Three of Spades', 'Four of Spades', 'Five of Spades', 'Seven of Spades', 'Eight of Spades', 'Nine of Spades', 'Ten of Spades', 'Jack of Spades', 'Queen of Spades', 'King of Spades', 'Ace of Spades', 'Two of Clubs', 'Three of Clubs', 'Four of Clubs', 'Five of Clubs', 'Six of Clubs', 'Seven of Clubs', 'Eight of Clubs', 'Nine of Clubs', 'Ten of Clubs', 'Jack of Clubs', 'Queen of Clubs', 'King of Clubs', 'Ace of Clubs']\n"
     ]
    }
   ],
   "source": [
    "test_deck=Deck()\n",
    "print(len(test_deck))\n",
    "card1=test_deck.deal()\n",
    "print(len(test_deck))\n",
    "card2=test_deck.deal()\n",
    "print(len(test_deck))\n",
    "print(str(card1),type(card1))\n",
    "print(str(card2),type(card2))\n",
    "print(test_deck.__str__())"
   ]
  },
  {
   "cell_type": "code",
   "execution_count": 5,
   "metadata": {},
   "outputs": [],
   "source": [
    "class Hand:\n",
    "    def __init__(self):\n",
    "        self.cards = []  # start with an empty list as we did in the Deck class\n",
    "        self.value = 0   # start with zero value\n",
    "        self.aces = 0    # add an attribute to keep track of aces\n",
    "    \n",
    "    def add_cards(self,tcard):\n",
    "        '''The adjustment for the ace is designed in Vietnamese style: when the player/ealer only has two cards in hand, it takes the value of 11, but once the player starts drawing, the value is now 1.'''\n",
    "        if [len(self.cards)+1]==3:\n",
    "            for a_card in self.cards:\n",
    "                if a_card.rank==\"Ace\": \n",
    "                    self.value-=10\n",
    "        self.cards.append(tcard)\n",
    "        if tcard.rank ==\"Ace\" and len(self.cards)>2:\n",
    "            self.value+=1\n",
    "        else: self.value+=values[tcard.rank]\n",
    "            \n",
    "                \n",
    "    def __str__(self):\n",
    "        return [str(card) for card in self.cards]"
   ]
  },
  {
   "cell_type": "code",
   "execution_count": 6,
   "metadata": {},
   "outputs": [
    {
     "name": "stdout",
     "output_type": "stream",
     "text": [
      "['Four of Clubs', 'Two of Clubs']\n"
     ]
    }
   ],
   "source": [
    "test_hand=Hand()\n",
    "test_deck=Deck()\n",
    "test_hand.add_cards(test_deck.deal())\n",
    "test_hand.add_cards(test_deck.deal())\n",
    "print(test_hand.__str__())"
   ]
  },
  {
   "cell_type": "code",
   "execution_count": 7,
   "metadata": {},
   "outputs": [],
   "source": [
    "class Chips:\n",
    "    \n",
    "    def __init__(self,starting_amount):\n",
    "        self.total = starting_amount  # This can be set to a default value or supplied by a user input\n",
    "        self.bet = 0\n",
    "        \n",
    "    def win_bet(self):\n",
    "        self.total+=self.bet\n",
    "        self.bet=0\n",
    "    \n",
    "    def lose_bet(self):\n",
    "        self.total-=self.bet\n",
    "        self.bet=0"
   ]
  },
  {
   "cell_type": "code",
   "execution_count": 8,
   "metadata": {},
   "outputs": [],
   "source": [
    " def take_bet(chip, bet):\n",
    "        if bet>chip.total:\n",
    "            print(\"You do not have that much money.Here is how much you have left: \",chip.total)\n",
    "            try: \n",
    "                bet=int(input(\"Please insert a new bet: \"))\n",
    "            except:\n",
    "                bet=int(input(\"Not an integer. Please insert an integer bet: \"))\n",
    "        chip.bet+=bet"
   ]
  },
  {
   "cell_type": "code",
   "execution_count": 10,
   "metadata": {},
   "outputs": [],
   "source": [
    "def blackjack(starter):\n",
    "    print(\"Welcome to Blackjack\")\n",
    "    player_chips=Chips(starter)   \n",
    "    \n",
    "    def bjack():\n",
    "        while True:\n",
    "            nonlocal player_chips\n",
    "            deck_in_play=Deck()\n",
    "            Dealer=Hand()\n",
    "            Dealer.add_cards(deck_in_play.deal())\n",
    "            Dealer.add_cards(deck_in_play.deal())\n",
    "            \n",
    "            if Dealer.value >=21:\n",
    "                print(\"Dealer has \",Dealer.__str__ ,\" for \",Dealer.value)\n",
    "                print(\"Dealer wins\")\n",
    "                player_chips.lose_bet()\n",
    "                break\n",
    "            else:\n",
    "                print(\"One of the dealer's card: \"+str(Dealer.cards[1]))\n",
    "                player_hand=Hand()\n",
    "                player_hand.add_cards(deck_in_play.deal())\n",
    "                player_hand.add_cards(deck_in_play.deal())\n",
    "                \n",
    "            def current_status(): \n",
    "                print(\"Your current hand: \",[str(element) for element in player_hand.cards],\" for \",player_hand.value)\n",
    "            \n",
    "            current_status()\n",
    "                \n",
    "            if player_hand.value>=21:\n",
    "                print(\"You have 21. You win\")\n",
    "                player_chips.win_bet()\n",
    "                break\n",
    "                    \n",
    "            else: \n",
    "                playing=True\n",
    "                while playing: \n",
    "                    continue_play=input(\"Do you want to hit? (Yes/No): \")\n",
    "                    if continue_play==\"Yes\":\n",
    "                        raising=int(input(\"How much do you want to raise? (If not, input 0):  \"))\n",
    "                        take_bet(player_chips,raising)\n",
    "                        player_hand.add_cards(deck_in_play.deal())\n",
    "                        current_status()\n",
    "                    elif continue_play==\"No\":\n",
    "                        playing = False\n",
    "                        \n",
    "            if player_hand.value>21:\n",
    "                print(\"Player busts\")\n",
    "                player_chips.lose_bet()\n",
    "                break\n",
    "                        \n",
    "            while Dealer.value<16: \n",
    "                print(\"Dealer draws\")\n",
    "                Dealer.add_cards(deck_in_play.deal())\n",
    "                        \n",
    "            else: \n",
    "                print(\"Dealer's cards: \",[str(element) for element in Dealer.cards])\n",
    "                print(\"Player's hand is: \",player_hand.value)\n",
    "                print(\"Dealer's hand is: \",Dealer.value)\n",
    "                        \n",
    "            if Dealer.value>21: \n",
    "                print(\"Dealer busts\")\n",
    "                player_chips.win_bet()\n",
    "                            \n",
    "            elif player_hand.value>Dealer.value:\n",
    "                print(\"Player wins\")\n",
    "                player_chips.win_bet()\n",
    "                            \n",
    "            elif Dealer.value>player_hand.value:\n",
    "                print(\"Dealer wins\")\n",
    "                player_chips.lose_bet()\n",
    "            break\n",
    "\n",
    "                     \n",
    "    while True:\n",
    "        how_much=int(input(\"How much do you want to bet:  \"))\n",
    "        take_bet(player_chips,how_much)\n",
    "        bjack()\n",
    "        if player_chips.total==0:\n",
    "             print(\"Bitch you broke\")\n",
    "        else: print(\"You currently have: \",player_chips.total)\n",
    "        again=input(\"Do you want to play again?(Yes/No): \")\n",
    "        if again==\"No\":\n",
    "            break\n",
    "    \n",
    "    \n",
    "\n",
    "        "
   ]
  },
  {
   "cell_type": "code",
   "execution_count": null,
   "metadata": {},
   "outputs": [
    {
     "name": "stdout",
     "output_type": "stream",
     "text": [
      "Welcome to Blackjack\n",
      "How much do you want to bet:  5000\n",
      "One of the dealer's card: Jack of Hearts\n",
      "Your current hand:  ['Eight of Clubs', 'Nine of Diamonds']  for  17\n",
      "Do you want to hit? (Yes/No): No\n",
      "Dealer's cards:  ['Nine of Spades', 'Jack of Hearts']\n",
      "Player's hand is:  17\n",
      "Dealer's hand is:  19\n",
      "Dealer wins\n",
      "You currently have:  5000\n",
      "Do you want to play again?(Yes/No): Yes\n",
      "How much do you want to bet:  600\n",
      "One of the dealer's card: Nine of Diamonds\n",
      "Your current hand:  ['Five of Diamonds', 'Jack of Hearts']  for  15\n",
      "Do you want to hit? (Yes/No): Yes\n",
      "How much do you want to raise? (If not, input 0):  0\n",
      "Your current hand:  ['Five of Diamonds', 'Jack of Hearts', 'King of Hearts']  for  25\n",
      "Do you want to hit? (Yes/No): No\n",
      "Player busts\n",
      "You currently have:  4400\n"
     ]
    }
   ],
   "source": [
    "blackjack(10000)"
   ]
  },
  {
   "cell_type": "code",
   "execution_count": null,
   "metadata": {},
   "outputs": [],
   "source": []
  },
  {
   "cell_type": "code",
   "execution_count": 17,
   "metadata": {},
   "outputs": [
    {
     "name": "stdout",
     "output_type": "stream",
     "text": [
      "How much do you want to bet:  75\n",
      "One of the dealer's card: Five of Hearts\n",
      "Your current hand:  ['Queen of Hearts', 'Six of Hearts']  for  16\n",
      "Do you want to hit? (Yes/No): Yes\n",
      "Your current hand:  ['Queen of Hearts', 'Six of Hearts', 'Six of Diamonds']  for  22\n",
      "Do you want to hit? (Yes/No): No\n",
      "Player busts\n",
      "You currently have:  9925\n",
      "Do you want to play again?(Yes/No): Yes\n",
      "How much do you want to bet:  50\n",
      "One of the dealer's card: Two of Hearts\n",
      "Your current hand:  ['Nine of Clubs', 'King of Diamonds']  for  19\n",
      "Do you want to hit? (Yes/No): No\n",
      "Dealer draws\n",
      "Dealer draws\n",
      "Dealer's cards:  ['Five of Hearts', 'Two of Hearts', 'Ten of Clubs', 'Six of Hearts']\n",
      "Player's hand is:  19\n",
      "Dealer's hand is:  23\n",
      "Dealer busts\n",
      "You currently have:  9975\n",
      "Do you want to play again?(Yes/No): No\n"
     ]
    }
   ],
   "source": []
  },
  {
   "cell_type": "code",
   "execution_count": null,
   "metadata": {},
   "outputs": [],
   "source": []
  }
 ],
 "metadata": {
  "kernelspec": {
   "display_name": "Python 3",
   "language": "python",
   "name": "python3"
  },
  "language_info": {
   "codemirror_mode": {
    "name": "ipython",
    "version": 3
   },
   "file_extension": ".py",
   "mimetype": "text/x-python",
   "name": "python",
   "nbconvert_exporter": "python",
   "pygments_lexer": "ipython3",
   "version": "3.7.6"
  }
 },
 "nbformat": 4,
 "nbformat_minor": 4
}
