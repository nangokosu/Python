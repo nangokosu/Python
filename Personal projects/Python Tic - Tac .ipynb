{
 "cells": [
  {
   "cell_type": "code",
   "execution_count": 1,
   "metadata": {},
   "outputs": [],
   "source": [
    "def tt():\n",
    "    marker = input(\"Player 1, choose X or O: \")\n",
    "    while marker != \"X\" and marker !=\"O\": \n",
    "        marker = input(\"Player 1, choose X or O: \")\n",
    "    board=[' ']*9\n",
    "    print(\"This is the current board. Player 1 goes first with marker {}\".format(marker))\n",
    "    turn=1\n",
    "    def opposition_marker(marker):\n",
    "        if marker ==\"X\": \n",
    "            return \"O\"\n",
    "        else: return \"X\"\n",
    "    \n",
    "    marker_opp=opposition_marker(marker)\n",
    "    \n",
    "    def print_board():\n",
    "        '''Prints out the current board state'''\n",
    "        print(board[0]+\"|\"+board[1]+\"|\"+board[2])\n",
    "        print(board[3]+\"|\"+board[4]+\"|\"+board[5])\n",
    "        print(board[6]+\"|\"+board[7]+\"|\"+board[8])\n",
    "    \n",
    "    def win(mark):  \n",
    "        '''Defines the win condition'''\n",
    "        condition1= board[0]==mark and board[3]==mark and board[6]==mark\n",
    "        condition2= board[0]==mark and board[1]==mark and board[2]==mark\n",
    "        condition3= board[3]==mark and board[4]==mark and board[5]==mark\n",
    "        condition4= board[6]==mark and board[7]==mark and board[8]==mark\n",
    "        condition5= board[1]==mark and board[4]==mark and board[7]==mark\n",
    "        condition6= board[2]==mark and board[5]==mark and board[8]==mark\n",
    "        condition7= board[0]==mark and board[4]==mark and board[8]==mark\n",
    "        condition8= board[2]==mark and board[4]==mark and board[6]==mark\n",
    "        finalcon = condition1 + condition2 + condition3 + condition4 + condition5 + condition6 + condition7 + condition8\n",
    "        return finalcon>0\n",
    "    \n",
    "    taken_moves=[]\n",
    "    while ' ' in board:\n",
    "        if turn%2!=0:\n",
    "                player1=input(\"Player 1's move (1-9): \")\n",
    "                if int(player1)<1 or int(player1)>9:\n",
    "                    player1=input(\"Out of range number. Please insert a new move: \")\n",
    "                if int(player1) in taken_moves:\n",
    "                    player1=input(\"Move already taken. Please insert new move: \")      \n",
    "                board[int(player1)-1]=marker\n",
    "                print_board()\n",
    "                taken_moves.append(int(player1))\n",
    "        elif turn%2==0:\n",
    "                player2=input(\"Player 2's move (1-9): \")\n",
    "                if int(player2)<1 or int(player2)>9:\n",
    "                    player2=input(\"Out of range number. Please insert a new move: \")\n",
    "                if int(player2) in taken_moves:    \n",
    "                    player2=input(\"Move already taken. Please insert new move: \")\n",
    "                board[int(player2)-1]=marker_opp\n",
    "                print_board()\n",
    "                taken_moves.append(int(player2))\n",
    "        if win(marker) or win(marker_opp):\n",
    "            if turn%2!=0: print(\"Player 1 wins\")\n",
    "            elif turn%2==0: print(\"Player 2 wins\")\n",
    "            break\n",
    "        else: turn+=1\n",
    "        if ' ' not in board: \n",
    "            print(\"Both of you suck\")\n",
    "            break\n",
    "\n",
    "    \n",
    "    #player1=input(\"Player1's move: \")\n",
    "    #player2=input(\"Player2's move: \")\n",
    "    \n",
    "    \n",
    "    "
   ]
  },
  {
   "cell_type": "code",
   "execution_count": 2,
   "metadata": {},
   "outputs": [],
   "source": [
    "def tictac():\n",
    "    '''Implements repeatability'''\n",
    "    replay=True\n",
    "    while replay: \n",
    "        tt()\n",
    "        answer=input('Do you want to replay?(Yes/No): ')\n",
    "        if answer == \"No\": replay=False\n",
    "    \n",
    "\n"
   ]
  },
  {
   "cell_type": "code",
   "execution_count": 3,
   "metadata": {},
   "outputs": [
    {
     "name": "stdout",
     "output_type": "stream",
     "text": [
      "Player 1, choose X or O: X\n",
      "This is the current board. Player 1 goes first with marker X\n",
      "Player 1's move (1-9): 2\n",
      " |X| \n",
      " | | \n",
      " | | \n",
      "Player 2's move (1-9): 4\n",
      " |X| \n",
      "O| | \n",
      " | | \n",
      "Player 1's move (1-9): 5\n",
      " |X| \n",
      "O|X| \n",
      " | | \n",
      "Player 2's move (1-9): 8\n",
      " |X| \n",
      "O|X| \n",
      " |O| \n",
      "Player 1's move (1-9): 3\n",
      " |X|X\n",
      "O|X| \n",
      " |O| \n",
      "Player 2's move (1-9): 7\n",
      " |X|X\n",
      "O|X| \n",
      "O|O| \n",
      "Player 1's move (1-9): 1\n",
      "X|X|X\n",
      "O|X| \n",
      "O|O| \n",
      "Player 1 wins\n",
      "Do you want to replay?(Yes/No)No\n"
     ]
    }
   ],
   "source": [
    "tictac()\n"
   ]
  },
  {
   "cell_type": "code",
   "execution_count": null,
   "metadata": {},
   "outputs": [],
   "source": [
    "\n"
   ]
  },
  {
   "cell_type": "code",
   "execution_count": null,
   "metadata": {},
   "outputs": [],
   "source": []
  }
 ],
 "metadata": {
  "kernelspec": {
   "display_name": "Python 3",
   "language": "python",
   "name": "python3"
  },
  "language_info": {
   "codemirror_mode": {
    "name": "ipython",
    "version": 3
   },
   "file_extension": ".py",
   "mimetype": "text/x-python",
   "name": "python",
   "nbconvert_exporter": "python",
   "pygments_lexer": "ipython3",
   "version": "3.7.6"
  }
 },
 "nbformat": 4,
 "nbformat_minor": 4
}
