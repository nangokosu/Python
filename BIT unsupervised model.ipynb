{
 "cells": [
  {
   "cell_type": "code",
   "execution_count": 1,
   "metadata": {},
   "outputs": [],
   "source": [
    "import spacy\n",
    "nlp=spacy.load(\"en_core_web_lg\")\n",
    "from spacy.lang.en.stop_words import STOP_WORDS\n",
    "list1=[\"Party\",\"Contracting\",\"Paragraph\",\"i\",\"ii\",\"iii\",\"Article\",\"Parties\"]\n",
    "for item in list1:\n",
    "    nlp.Defaults.stop_words.add(item)"
   ]
  },
  {
   "cell_type": "code",
   "execution_count": 2,
   "metadata": {
    "scrolled": true
   },
   "outputs": [],
   "source": [
    "import os\n",
    "import re\n",
    "FET_list=os.listdir(\"BIT text/FET\")\n",
    "FET_list=[name for name in FET_list if name !=\"United States.txt\"]\n",
    "pattern=\"(\\w*\\s?\\w*)\\.txt\"\n",
    "def BITprocessor(text,country):\n",
    "    processing=nlp(text)\n",
    "    extraction=[token.lemma_ for token in processing if token.text not in STOP_WORDS and token.is_punct == False and token.is_stop == False and token.text!=\"\\n\" and token.is_digit==False and len(token.text)>1 and token.is_alpha==True]\n",
    "    extraction2=' '.join(extraction)\n",
    "    document=nlp.make_doc(extraction2)\n",
    "    name=re.findall(pattern,country)\n",
    "    return document, name[0]\n",
    "textUS=open(\"BIT text/FET/United States.txt\",encoding=\"utf8\",mode=\"r\").read() \n",
    "documentUS, name_US=BITprocessor(textUS,country=\"United States.txt\")   "
   ]
  },
  {
   "cell_type": "code",
   "execution_count": 3,
   "metadata": {},
   "outputs": [],
   "source": [
    "spacy_similarity_score_US=[]\n",
    "country_name=[]\n",
    "FET_processed=[]\n",
    "for country_n in FET_list:\n",
    "    text=open(\"BIT text/FET/{}\".format(country_n),encoding=\"utf8\",mode=\"r\").read()\n",
    "    document, name = BITprocessor(text,country=\"BIT text/FET/{}\".format(country_n))\n",
    "    score = document.similarity(documentUS)\n",
    "    FET_processed.append(document.text)\n",
    "    country_name.append(name)\n",
    "    spacy_similarity_score_US.append(score)"
   ]
  },
  {
   "cell_type": "code",
   "execution_count": 4,
   "metadata": {},
   "outputs": [
    {
     "name": "stdout",
     "output_type": "stream",
     "text": [
      "['shall accord investment investor fair equitable treatment constant protection security shall unduly discriminatory impair management operation maintenance use enjoyment sale liquidation investment investor shall unduly discriminatory impair management operation maintenance use enjoyment sale liquidation investment investor shall accord investor investment return treatment favourable accord investor investment investor country investment return respect management operation maintenance use enjoyment sale liquidation dispute settlement investment return whichever favourable investor provision Agreement shall construe prevent take action pursuance obligation United Nations Charter maintenance international peace security prevent fulfil obligation member economic integration agreement free trade area customs union common market economic community monetary union European Union oblige extend investor investment return present future benefit treatment preference privilege virtue membership agreement multilateral agreement investment oblige extend investor investment return present future benefit treatment preference privilege result obligation international agreement international arrangement domestic legislation taxation', 'investment investor territory state return relate thereto shall accord treatment favourable Host accord investment return investor investor State whichever favourable investor investor shall accord regard management maintenance use enjoyment disposal investment treatment favourable accord investor investor State whichever favourable investor present shall apply respect kind treatment offer Articles Agreement shall apply respect Investor right submit dispute arise Agreement dispute settlement procedure obligation refer paragraph shall apply treatment accord treaty bilateral multilateral force sign prior date entry force Agreement notwithstanding paragraphs reserve right adopt maintain measure accord differential treatment socially economically disadvantaged rural population marginalize community', 'shall accord cover investment treatment accordance customary international law minimum standard treatment alien include fair equitable treatment protection security concept fair equitable treatment protection security paragraph require treatment addition require customary international law minimum standard treatment alien determination breach provision Agreement separate international agreement establish breach', 'investment investor shall time accord fair equitable treatment shall enjoy protection security territory', 'shall extend fair equitable treatment accordance principle International Law investment investor territory maritime area shall ensure exercise right recognize shall hinder law practice particular exclusively shall consider de jure de facto impediment fair equitable treatment restriction purchase transport raw material auxiliary material energy fuel mean production operation type hindrance sale transport product country abroad measure similar effect framework internal legislation shall favorably examine request entry authorization reside work travel national relation investment territory maritime area', 'State shall territory case accord investment investor State fair equitable treatment protection Treaty State shall territory impair arbitrary discriminatory measure activity investor State regard investment particular management maintenance use enjoyment disposal investment provision shall prejudice return investment return reinvested return shall enjoy protection original investment', 'investment national company shall accord fair equitable treatment protection security territory understand concept fair equitable treatment protection security mean treatment meet standard require customary international law require treatment addition standard shall way impair unreasonable discriminatory measure management maintenance use enjoyment disposal investment territory national company', 'shall subject investment investor measure constitute violation customary international law denial justice judicial administrative proceeding fundamental breach process target discrimination manifestly unjustified ground gender race religious belief iv manifestly abusive treatment coercion duress harassment shall accord territory investment investor respect investment protection security great certainty protection security refer obligation relate physical security investor investment investor obligation whatsoever determination breach provision Treaty separate international agreement establish breach consider allege breach article Tribunal shall account investor appropriate locally establish enterprise pursue action remedy domestic court tribunal prior initiate claim Treaty', 'investment investor territory shall time accord fair equitable treatment protection security accordance paragraph breach obligation fair equitable treatment reference paragraph measure series measure constitute denial justice criminal civil administrative proceeding fundamental breach process include fundamental breach transparency obstacle effective access justice judicial administrative proceeding manifest arbitrariness target discrimination manifestly wrongful ground gender race religious belief harassment coercion abuse power similar bad faith conduct apply fair equitable treatment obligation Tribunal account specific representation investor induce cover investment create legitimate expectation investor rely decide maintain covered investment subsequently frustrate great certainty protection security refer obligation relate physical security investor cover investment great certainty breach provision Agreement international agreement constitute breach', 'shall accord investment investor treatment accordance customary international law include fair equitable treatment protection security great certainty concept fair equitable treatment protection security require treatment addition require customary international law minimum standard treatment alien determination breach provision Agreement separate international agreement establish breach', 'shall ensure fair equitable treatment investment investor addition shall accord investment physical security protection breach aforementioned obligation fair equitable treatment measure series measure constitute denial justice criminal civil administrative proceeding fundamental breach process include fundamental breach transparency judicial administrative proceeding manifest arbitrariness direct target indirect discrimination wrongful ground gender race nationality sexual orientation religious belief abusive treatment investor harassment coercion abuse power corrupt practice similar bad faith conduct breach element fair equitable treatment obligation adopt accordance paragraph shall request review content obligation provide fair equitable treatment complement list joint interpretative declaration meaning paragraph sub Vienna Convention Law Treaties apply paragraph Tribunal account specific representation investor induce investment create legitimate expectation investor rely decide maintain investment subsequently frustrate enter write commitment investor specific investment shall entity exercise governmental authority breach say commitment exercise governmental authority way cause loss damage investor investment great certainty breach provision Agreement international agreement constitute breach addition fact measure breach domestic law establish breach', 'State shall ensure administrative legislative judicial process operate manner arbitrary deny administrative procedural justice process investor State investment take consideration level development State investor investment require circumstance shall notify timely manner administrative judicial proceeding directly affect investment exceptional circumstance notice contrary domestic law administrative decision making process shall include right administrative review appeal decision commensurate level development available resource disposal State Investor Investment shall access government hold information timely fashion accordance domestic law subject limitation access information applicable domestic law state progressively strive improve transparency efficiency independence accountability legislative regulatory administrative judicial process accordance respective domestic law regulation']"
     ]
    },
    {
     "name": "stdout",
     "output_type": "stream",
     "text": [
      "\n",
      "['Austria', 'Azerbaijan', 'Canada', 'Czech Republic', 'France', 'Germany', 'Ghana', 'India', 'Luxembourg', 'Mexico', 'Netherlands', 'African Community']\n"
     ]
    }
   ],
   "source": [
    "print(FET_processed)\n",
    "print(country_name)"
   ]
  },
  {
   "cell_type": "code",
   "execution_count": 5,
   "metadata": {},
   "outputs": [],
   "source": [
    "from sklearn.feature_extraction.text import TfidfVectorizer\n",
    "from sklearn.cluster import KMeans\n",
    "import pandas as pd\n"
   ]
  },
  {
   "cell_type": "code",
   "execution_count": 6,
   "metadata": {},
   "outputs": [
    {
     "name": "stdout",
     "output_type": "stream",
     "text": [
      "  (0, 281)\t0.07299634179927383\n",
      "  (0, 161)\t0.06269010627330317\n",
      "  (0, 89)\t0.049705785092629\n",
      "  (0, 26)\t0.07299634179927383\n",
      "  (0, 255)\t0.07299634179927383\n",
      "  (0, 189)\t0.06269010627330317\n",
      "  (0, 186)\t0.07299634179927383\n",
      "  (0, 304)\t0.07299634179927383\n",
      "  (0, 218)\t0.14599268359854767\n",
      "  (0, 212)\t0.14599268359854767\n",
      "  (0, 35)\t0.14599268359854767\n",
      "  (0, 128)\t0.14599268359854767\n",
      "  (0, 214)\t0.12538021254660633\n",
      "  (0, 113)\t0.12538021254660633\n",
      "  (0, 197)\t0.14599268359854767\n",
      "  (0, 107)\t0.07299634179927383\n",
      "  (0, 188)\t0.07299634179927383\n",
      "  (0, 49)\t0.06269010627330317\n",
      "  (0, 179)\t0.07299634179927383\n",
      "  (0, 48)\t0.07299634179927383\n",
      "  (0, 297)\t0.2189890253978215\n",
      "  (0, 70)\t0.07299634179927383\n",
      "  (0, 24)\t0.06269010627330317\n",
      "  (0, 286)\t0.07299634179927383\n",
      "  (0, 123)\t0.07299634179927383\n",
      "  :\t:\n",
      "  (11, 200)\t0.08708074260208687\n",
      "  (11, 162)\t0.17416148520417374\n",
      "  (11, 257)\t0.0747859532892002\n",
      "  (11, 3)\t0.1495719065784004\n",
      "  (11, 287)\t0.06606266144691991\n",
      "  (11, 222)\t0.23718540248979608\n",
      "  (11, 221)\t0.05929635062244902\n",
      "  (11, 11)\t0.3557781037346941\n",
      "  (11, 156)\t0.17788905186734705\n",
      "  (11, 158)\t0.05929635062244902\n",
      "  (11, 276)\t0.0747859532892002\n",
      "  (11, 23)\t0.0747859532892002\n",
      "  (11, 100)\t0.06606266144691991\n",
      "  (11, 248)\t0.05929635062244902\n",
      "  (11, 142)\t0.05376787213403322\n",
      "  (11, 160)\t0.1801783211670117\n",
      "  (11, 5)\t0.09818722034817935\n",
      "  (11, 258)\t0.06606266144691991\n",
      "  (11, 87)\t0.05929635062244902\n",
      "  (11, 273)\t0.3303133072345995\n",
      "  (11, 89)\t0.23718540248979608\n",
      "  (11, 279)\t0.0747859532892002\n",
      "  (11, 153)\t0.10616462773795347\n",
      "  (11, 152)\t0.12129072580624468\n",
      "  (11, 267)\t0.12129072580624468\n"
     ]
    }
   ],
   "source": [
    "idf=TfidfVectorizer()\n",
    "freq_matrix=idf.fit_transform(FET_processed)\n",
    "print(freq_matrix)"
   ]
  },
  {
   "cell_type": "code",
   "execution_count": 7,
   "metadata": {},
   "outputs": [
    {
     "data": {
      "text/plain": [
       "array([0, 0, 2, 0, 0, 0, 2, 1, 1, 2, 1, 0])"
      ]
     },
     "execution_count": 7,
     "metadata": {},
     "output_type": "execute_result"
    }
   ],
   "source": [
    "kmeans=KMeans(n_clusters=3)\n",
    "kmeans.fit(freq_matrix)\n",
    "kmeans.predict(freq_matrix)\n"
   ]
  },
  {
   "cell_type": "code",
   "execution_count": 8,
   "metadata": {},
   "outputs": [
    {
     "name": "stdout",
     "output_type": "stream",
     "text": [
      "['Austria', 'Azerbaijan', 'Canada', 'Czech Republic', 'France', 'Germany', 'Ghana', 'India', 'Luxembourg', 'Mexico', 'Netherlands', 'African Community']\n"
     ]
    }
   ],
   "source": [
    "print(country_name)"
   ]
  },
  {
   "cell_type": "code",
   "execution_count": 23,
   "metadata": {},
   "outputs": [
    {
     "name": "stdout",
     "output_type": "stream",
     "text": [
      "[[0.         0.         0.         ... 0.         0.         0.        ]\n",
      " [0.         0.         0.00034196 ... 0.         0.         0.        ]\n",
      " [0.         0.07726499 0.07423933 ... 0.         0.03663892 0.07726499]\n",
      " [0.11165729 0.         0.         ... 0.11165729 0.00146389 0.        ]\n",
      " [0.         0.         0.00107482 ... 0.         0.         0.        ]]\n"
     ]
    }
   ],
   "source": [
    "from sklearn.decomposition import NMF\n",
    "nmf=NMF(n_components=5)\n",
    "NMF_matrix=nmf.fit_transform(freq_matrix)\n",
    "print(nmf.components_)\n"
   ]
  },
  {
   "cell_type": "code",
   "execution_count": 12,
   "metadata": {},
   "outputs": [
    {
     "name": "stdout",
     "output_type": "stream",
     "text": [
      "['abroad', 'abuse', 'abusive', 'access', 'accord', 'accordance', 'account', 'accountability', 'action', 'activity', 'addition', 'administrative', 'adopt', 'affect', 'aforementioned', 'agreement', 'alien', 'allege', 'appeal', 'applicable', 'apply', 'appropriate', 'arbitrariness', 'arbitrary', 'area', 'arise', 'arrangement', 'article', 'articles', 'authority', 'authorization', 'auxiliary', 'available', 'bad', 'belief', 'benefit', 'bilateral', 'breach', 'case', 'cause', 'certainty', 'charter', 'circumstance', 'civil', 'claim', 'coercion', 'commensurate', 'commitment', 'common', 'community', 'company', 'complement', 'concept', 'conduct', 'consider', 'consideration', 'constant', 'constitute', 'construe', 'content', 'contrary', 'convention', 'corrupt', 'country', 'court', 'cover', 'covered', 'create', 'criminal', 'customary', 'customs', 'damage', 'date', 'de', 'decide', 'decision', 'declaration', 'denial', 'deny', 'determination', 'development', 'differential', 'direct', 'directly', 'disadvantaged', 'discrimination', 'discriminatory', 'disposal', 'dispute', 'domestic', 'duress', 'economic', 'economically', 'effect', 'effective', 'efficiency', 'element', 'energy', 'enjoy', 'enjoyment', 'ensure', 'enter', 'enterprise', 'entity', 'entry', 'equitable', 'establish', 'european', 'examine', 'exceptional', 'exclusively', 'exercise', 'expectation', 'extend', 'fact', 'facto', 'fair', 'faith', 'fashion', 'favorably', 'favourable', 'force', 'framework', 'free', 'frustrate', 'fuel', 'fulfil', 'fundamental', 'future', 'gender', 'government', 'governmental', 'great', 'ground', 'harassment', 'hinder', 'hindrance', 'hold', 'host', 'impair', 'impediment', 'improve', 'include', 'independence', 'indirect', 'induce', 'information', 'initiate', 'integration', 'internal', 'international', 'interpretative', 'investment', 'investor', 'iv', 'joint', 'judicial', 'jure', 'justice', 'kind', 'law', 'legislation', 'legislative', 'legitimate', 'level', 'limitation', 'liquidation', 'list', 'locally', 'loss', 'maintain', 'maintenance', 'making', 'management', 'manifest', 'manifestly', 'manner', 'marginalize', 'maritime', 'market', 'material', 'mean', 'meaning', 'measure', 'meet', 'member', 'membership', 'minimum', 'monetary', 'multilateral', 'national', 'nationality', 'nations', 'notice', 'notify', 'notwithstanding', 'obligation', 'oblige', 'obstacle', 'offer', 'operate', 'operation', 'orientation', 'original', 'paragraph', 'paragraphs', 'particular', 'peace', 'physical', 'population', 'power', 'practice', 'preference', 'prejudice', 'present', 'prevent', 'principle', 'prior', 'privilege', 'procedural', 'procedure', 'proceeding', 'process', 'product', 'production', 'progressively', 'protection', 'provide', 'provision', 'purchase', 'pursuance', 'pursue', 'race', 'raw', 'recognize', 'refer', 'reference', 'regard', 'regulation', 'regulatory', 'reinvested', 'relate', 'relation', 'religious', 'rely', 'remedy', 'representation', 'request', 'require', 'reserve', 'reside', 'resource', 'respect', 'respective', 'restriction', 'result', 'return', 'review', 'right', 'rural', 'sale', 'say', 'security', 'separate', 'series', 'settlement', 'sexual', 'shall', 'sign', 'similar', 'socially', 'specific', 'standard', 'state', 'strive', 'sub', 'subject', 'submit', 'subsequently', 'take', 'target', 'taxation', 'territory', 'thereto', 'time', 'timely', 'trade', 'transparency', 'transport', 'travel', 'treaties', 'treatment', 'treaty', 'tribunal', 'type', 'understand', 'unduly', 'union', 'united', 'unjustified', 'unreasonable', 'use', 'vienna', 'violation', 'virtue', 'way', 'whatsoever', 'whichever', 'work', 'write', 'wrongful']\n"
     ]
    }
   ],
   "source": [
    "print(idf.get_feature_names())"
   ]
  },
  {
   "cell_type": "code",
   "execution_count": 16,
   "metadata": {},
   "outputs": [
    {
     "data": {
      "image/png": "[encoded data removed]",
      "text/plain": [
       "<Figure size 432x288 with 1 Axes>"
      ]
     },
     "metadata": {
      "needs_background": "light"
     },
     "output_type": "display_data"
    }
   ],
   "source": [
    "import matplotlib.pyplot as plt\n",
    "plt.plot(idf.get_feature_names(),nmf.components_[0])\n",
    "plt.show()"
   ]
  },
  {
   "cell_type": "code",
   "execution_count": 24,
   "metadata": {},
   "outputs": [],
   "source": [
    "test=pd.Series(nmf.components_[1],index=idf.get_feature_names())"
   ]
  },
  {
   "cell_type": "code",
   "execution_count": 25,
   "metadata": {},
   "outputs": [
    {
     "name": "stdout",
     "output_type": "stream",
     "text": [
      "investor       0.378036\n",
      "return         0.350973\n",
      "investment     0.317047\n",
      "shall          0.307254\n",
      "state          0.294281\n",
      "accord         0.225353\n",
      "favourable     0.206982\n",
      "treatment      0.179162\n",
      "maintenance    0.176389\n",
      "territory      0.169641\n",
      "dtype: float64\n"
     ]
    }
   ],
   "source": [
    "print(test.nlargest(10))"
   ]
  },
  {
   "cell_type": "code",
   "execution_count": null,
   "metadata": {},
   "outputs": [],
   "source": []
  }
 ],
 "metadata": {
  "kernelspec": {
   "display_name": "Python 3",
   "language": "python",
   "name": "python3"
  },
  "language_info": {
   "codemirror_mode": {
    "name": "ipython",
    "version": 3
   },
   "file_extension": ".py",
   "mimetype": "text/x-python",
   "name": "python",
   "nbconvert_exporter": "python",
   "pygments_lexer": "ipython3",
   "version": "3.7.4"
  }
 },
 "nbformat": 4,
 "nbformat_minor": 2
}
